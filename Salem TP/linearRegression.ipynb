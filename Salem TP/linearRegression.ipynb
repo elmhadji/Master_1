{
 "cells": [
  {
   "cell_type": "code",
   "execution_count": null,
   "metadata": {},
   "outputs": [],
   "source": [
    "import numpy as np"
   ]
  },
  {
   "attachments": {},
   "cell_type": "markdown",
   "metadata": {},
   "source": [
    "## Class Of Linear Regression that contain 2 method fit and predict "
   ]
  },
  {
   "cell_type": "code",
   "execution_count": 2,
   "metadata": {},
   "outputs": [],
   "source": [
    "class LinearRegression:\n",
    "    def __init__(self , learning_rate = 0.001 , number_of_iteration =1000 ):\n",
    "        # y =(W1*X1) + (W2*X2)+.....+ bias \n",
    "        self.learning_rate =learning_rate\n",
    "        self.number_of_iteration = number_of_iteration\n",
    "        self.weights = None\n",
    "        self.bias  = None\n",
    "\n",
    "    def fit(self ,X ,y):\n",
    "        number_of_samples, number_of_features = X.shape\n",
    "        self.weights = np.zeros(number_of_features)\n",
    "        self.bias = 0\n",
    "\n",
    "        for _ in range(self.number_of_iteration):\n",
    "            y_pred = np.dot(X, self.weights) + self.bias\n",
    "\n",
    "            dldw = (1/number_of_samples) * np.dot(X.T, (y_pred-y))\n",
    "            dldb = (1/number_of_samples) * np.sum(y_pred-y)\n",
    "\n",
    "            self.weights = self.weights - self.learning_rate * dldw\n",
    "            self.bias = self.bias - self.learning_rate * dldb\n",
    "\n",
    "    def predict(self, X):\n",
    "        y_pred = np.dot(X, self.weights) + self.bias\n",
    "        return y_pred\n"
   ]
  }
 ],
 "metadata": {
  "kernelspec": {
   "display_name": "myenv",
   "language": "python",
   "name": "python3"
  },
  "language_info": {
   "codemirror_mode": {
    "name": "ipython",
    "version": 3
   },
   "file_extension": ".py",
   "mimetype": "text/x-python",
   "name": "python",
   "nbconvert_exporter": "python",
   "pygments_lexer": "ipython3",
   "version": "3.10.8"
  },
  "orig_nbformat": 4,
  "vscode": {
   "interpreter": {
    "hash": "896befeca508922fd3d1682fb0305be9a6ae22832c2870a263a58027bbc78f81"
   }
  }
 },
 "nbformat": 4,
 "nbformat_minor": 2
}

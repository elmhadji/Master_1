{
 "cells": [
  {
   "attachments": {},
   "cell_type": "markdown",
   "metadata": {},
   "source": [
    "### exo "
   ]
  },
  {
   "cell_type": "code",
   "execution_count": 12,
   "metadata": {},
   "outputs": [],
   "source": [
    "import numpy as np\n",
    "\n",
    "X1=0\n",
    "X2=1\n",
    "X3=1\n",
    "W1=0.351\n",
    "W2=-0.097\n",
    "W3=0.457\n",
    "W4=1.076\n",
    "W5=-0.165\n",
    "W6=-0.165\n",
    "W7=1.116\n",
    "W8=0.542\n",
    "W9=-0.331\n",
    "W10=0.383\n",
    "W11=-0.327\n",
    "W12=-0.329\n",
    "OS1=0.899\n",
    "OS2=0.593\n",
    "OS3=0.378\n",
    "S4=0.506"
   ]
  },
  {
   "cell_type": "code",
   "execution_count": 13,
   "metadata": {},
   "outputs": [],
   "source": [
    "def segmoid (sum):\n",
    "    return 1/(1+np.exp(-sum))\n"
   ]
  },
  {
   "cell_type": "code",
   "execution_count": 14,
   "metadata": {},
   "outputs": [
    {
     "name": "stdout",
     "output_type": "stream",
     "text": [
      "Y: 0.6238683139895791\n"
     ]
    }
   ],
   "source": [
    "Y=segmoid(S4)\n",
    "print(\"Y:\",Y)"
   ]
  },
  {
   "cell_type": "code",
   "execution_count": 15,
   "metadata": {},
   "outputs": [
    {
     "name": "stdout",
     "output_type": "stream",
     "text": [
      "S1: 2.192\n",
      "S2: 0.377\n",
      "S3: -0.496\n"
     ]
    }
   ],
   "source": [
    "S1=X1*W1+X2*W4+X3*W7\n",
    "S2=X1*W2+X2*W5+X3*W8\n",
    "S3=X1*W3+X2*W6+X3*W9\n",
    "print(\"S1:\",S1)\n",
    "print(\"S2:\",S2)\n",
    "print(\"S3:\",S3)"
   ]
  },
  {
   "cell_type": "code",
   "execution_count": 16,
   "metadata": {},
   "outputs": [
    {
     "data": {
      "text/plain": [
       "0.23465664078937903"
      ]
     },
     "execution_count": 16,
     "metadata": {},
     "output_type": "execute_result"
    }
   ],
   "source": [
    "def deriver_segmoid(x):\n",
    "    return segmoid (x)*(1-segmoid (x))\n",
    "\n",
    "\n",
    "deriver_segmoid(S4)"
   ]
  },
  {
   "cell_type": "code",
   "execution_count": 17,
   "metadata": {},
   "outputs": [
    {
     "name": "stdout",
     "output_type": "stream",
     "text": [
      "-0.07934735634235211\n",
      "-0.05233924617465494\n",
      "-0.03336295961892002\n"
     ]
    }
   ],
   "source": [
    "Yd=1\n",
    "DS4PW10=OS1\n",
    "DS4PW11=OS2\n",
    "DS4PW12=OS3\n",
    "DYPS4=deriver_segmoid(S4)\n",
    "DEPY=Y-Yd\n",
    "DEPW10=DEPY*DYPS4*DS4PW10\n",
    "DEPW11=DEPY*DYPS4*DS4PW11\n",
    "DEPW12=DEPY*DYPS4*DS4PW12\n",
    "print(DEPW10)\n",
    "print(DEPW11)\n",
    "print(DEPW12)"
   ]
  },
  {
   "cell_type": "code",
   "execution_count": 18,
   "metadata": {},
   "outputs": [
    {
     "name": "stdout",
     "output_type": "stream",
     "text": [
      "-0.0\n",
      "-0.003055119407679137\n",
      "-0.003055119407679137\n"
     ]
    }
   ],
   "source": [
    "DS1PW1=X1\n",
    "DS1PW4=X2\n",
    "DS1PW7=X3\n",
    "DOS1PS1=deriver_segmoid(S1)\n",
    "DS4POS1=W10\n",
    "DEPW1=DEPY*DYPS4*DS4POS1*DOS1PS1*DS1PW1\n",
    "DEPW4=DEPY*DYPS4*DS4POS1*DOS1PS1*DS1PW4\n",
    "DEPW7=DEPY*DYPS4*DS4POS1*DOS1PS1*DS1PW7\n",
    "print(DEPW1)\n",
    "print(DEPW4)\n",
    "print(DEPW7)"
   ]
  },
  {
   "cell_type": "code",
   "execution_count": 19,
   "metadata": {},
   "outputs": [
    {
     "name": "stdout",
     "output_type": "stream",
     "text": [
      "0.0\n",
      "0.006964975615460325\n",
      "0.006964975615460325\n"
     ]
    }
   ],
   "source": [
    "DS2PW2=X1\n",
    "DS2PW5=X2\n",
    "DS2PW8=X3\n",
    "DOS2PS2=deriver_segmoid(S2)\n",
    "DS4POS2=W11\n",
    "DEPW2=DEPY*DYPS4*DS4POS2*DOS2PS2*DS2PW2\n",
    "DEPW5=DEPY*DYPS4*DS4POS2*DOS2PS2*DS2PW5\n",
    "DEPW8=DEPY*DYPS4*DS4POS2*DOS2PS2*DS2PW8\n",
    "print(DEPW2)\n",
    "print(DEPW5)\n",
    "print(DEPW8)"
   ]
  },
  {
   "cell_type": "code",
   "execution_count": 20,
   "metadata": {},
   "outputs": [
    {
     "name": "stdout",
     "output_type": "stream",
     "text": [
      "0.0\n",
      "0.006830731653187248\n",
      "0.006830731653187248\n"
     ]
    }
   ],
   "source": [
    "DS3PW3=X1\n",
    "DS3PW6=X2\n",
    "DS3PW9=X3\n",
    "DOS3PS3=deriver_segmoid(S3)\n",
    "DS4POS3=W12\n",
    "DEPW3=DEPY*DYPS4*DS4POS3*DOS3PS3*DS3PW3\n",
    "DEPW6=DEPY*DYPS4*DS4POS3*DOS3PS3*DS3PW6\n",
    "DEPW9=DEPY*DYPS4*DS4POS3*DOS3PS3*DS3PW9\n",
    "print(DEPW3)\n",
    "print(DEPW6)\n",
    "print(DEPW9)"
   ]
  },
  {
   "cell_type": "code",
   "execution_count": null,
   "metadata": {},
   "outputs": [],
   "source": []
  }
 ],
 "metadata": {
  "kernelspec": {
   "display_name": "myenv",
   "language": "python",
   "name": "python3"
  },
  "language_info": {
   "codemirror_mode": {
    "name": "ipython",
    "version": 3
   },
   "file_extension": ".py",
   "mimetype": "text/x-python",
   "name": "python",
   "nbconvert_exporter": "python",
   "pygments_lexer": "ipython3",
   "version": "3.10.8"
  },
  "orig_nbformat": 4,
  "vscode": {
   "interpreter": {
    "hash": "896befeca508922fd3d1682fb0305be9a6ae22832c2870a263a58027bbc78f81"
   }
  }
 },
 "nbformat": 4,
 "nbformat_minor": 2
}

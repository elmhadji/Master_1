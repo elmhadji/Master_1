{
 "cells": [
  {
   "attachments": {},
   "cell_type": "markdown",
   "metadata": {},
   "source": [
    "# TP1\n",
    "## Exercice 1\n",
    "### 1"
   ]
  },
  {
   "cell_type": "code",
   "execution_count": 106,
   "metadata": {},
   "outputs": [
    {
     "name": "stdout",
     "output_type": "stream",
     "text": [
      "vecteur: \n",
      " [[1]\n",
      " [2]\n",
      " [3]]\n",
      "\n",
      " shape v : (3, 1) \n",
      "\n",
      "colones : \n",
      " [[1 2 3]]\n",
      "\n",
      " shape c : (1, 3)\n"
     ]
    }
   ],
   "source": [
    "import numpy as np\n",
    "\n",
    "# Create a row vector\n",
    "row_vector = np.array([[1],[2],[3],])\n",
    "print(\"vecteur: \\n\" , row_vector)\n",
    "print(\"\\n shape v :\",row_vector.shape ,\"\\n\") # Output: (3,1)\n",
    "\n",
    "# Create a column vector\n",
    "column_vector = np.array([[1,2,3]])\n",
    "print(\"colones : \\n\",column_vector)\n",
    "print(\"\\n shape c :\",column_vector.shape) # Output: (1,3)\n",
    "\n"
   ]
  },
  {
   "attachments": {},
   "cell_type": "markdown",
   "metadata": {},
   "source": [
    "### 2"
   ]
  },
  {
   "cell_type": "code",
   "execution_count": 107,
   "metadata": {},
   "outputs": [
    {
     "name": "stdout",
     "output_type": "stream",
     "text": [
      "(1, 3)\n",
      "L1 :  3.0\n",
      "L2 :  3.7416573867739413\n",
      "L_inf :  6.0\n"
     ]
    }
   ],
   "source": [
    "# Transpose the row vector into a column vector\n",
    "transposed_column_vector = row_vector.T\n",
    "print(transposed_column_vector.shape) # Output: (1, 3)\n",
    "\n",
    "# Calculate the L1 norm\n",
    "l1_norm = np.linalg.norm(transposed_column_vector, ord=1) # l1 = nombre de colone (1+1+1)\n",
    "print(\"L1 : \",l1_norm)\n",
    "\n",
    "# Calculate the L2 norm\n",
    "l2_norm = np.linalg.norm(transposed_column_vector) # l2 = racine de (1^2+2^2+3^2)\n",
    "print(\"L2 : \",l2_norm)\n",
    "\n",
    "# Calculate the L∞ norm\n",
    "linf_norm = np.linalg.norm(transposed_column_vector, ord=np.inf) #l inf = la somme de colone (1+2+3)\n",
    "print(\"L_inf : \",linf_norm)\n"
   ]
  },
  {
   "attachments": {},
   "cell_type": "markdown",
   "metadata": {},
   "source": [
    "### 3"
   ]
  },
  {
   "cell_type": "code",
   "execution_count": 108,
   "metadata": {},
   "outputs": [
    {
     "name": "stdout",
     "output_type": "stream",
     "text": [
      "0.979924710443726\n"
     ]
    }
   ],
   "source": [
    "# Define two vectors\n",
    "v = np.array([10, 9, 3])\n",
    "w = np.array([2, 5, 12])\n",
    "\n",
    "# Compute dot product\n",
    "dot_product = np.inner(v, w) #produit : v*w=10*2+9*5+3*12\n",
    "\n",
    "# Compute magnitudes\n",
    "v_magnitude = np.linalg.norm(v) # l2 deja defini \n",
    "w_magnitude = np.linalg.norm(w)\n",
    "\n",
    "# Compute angle in radians\n",
    "angle_radians = np.arccos(dot_product / (v_magnitude * w_magnitude)) # angle= cos^-1( [produit(v*w)]/[l2(v)*l2(w)] )\n",
    "\n",
    "# Print angle\n",
    "print(angle_radians)\n"
   ]
  },
  {
   "attachments": {},
   "cell_type": "markdown",
   "metadata": {},
   "source": [
    "### 4"
   ]
  },
  {
   "cell_type": "code",
   "execution_count": 109,
   "metadata": {},
   "outputs": [
    {
     "name": "stdout",
     "output_type": "stream",
     "text": [
      "[ 0  0 -6]\n"
     ]
    }
   ],
   "source": [
    "# Define two vectors\n",
    "v = np.array([0, 2, 0])\n",
    "w = np.array([3, 0, 0])\n",
    "\n",
    "# Compute cross product\n",
    "cross_product = np.cross(v, w) # cross_product = [ (v2 * w3 - v3 * w2), (v3 * w1 - v1 * w3), (v1 * w2 - v2 * w1) ]\n",
    "                                #                  ( 2*0     -   0*0)  ,  (  0*3     -   0*0) ,   (  0*0   - 2*3 )\n",
    "# Print cross product\n",
    "print(cross_product)\n"
   ]
  },
  {
   "attachments": {},
   "cell_type": "markdown",
   "metadata": {},
   "source": [
    "### 5"
   ]
  },
  {
   "cell_type": "code",
   "execution_count": 110,
   "metadata": {},
   "outputs": [
    {
     "name": "stdout",
     "output_type": "stream",
     "text": [
      "[[0 4 0]\n",
      " [3 1 2]\n",
      " [2 1 0]]\n",
      "[ 1.  2. -2.]\n"
     ]
    }
   ],
   "source": [
    "# Define row vectors\n",
    "v = np.array([0, 3, 2])\n",
    "w = np.array([4, 1, 1])\n",
    "u = np.array([0, 2, 0])\n",
    "x = np.array([8, 1, 4])\n",
    "#Create matrix of coefficients\n",
    "coefficient_matrix = np.column_stack((v, w, u)) # transforme the vectors a coloms in one matrix \n",
    "print(coefficient_matrix)\n",
    "#Solve system of linear equations\n",
    "solution = np.linalg.solve(coefficient_matrix, x)\n",
    "#Print solution\n",
    "print(solution)"
   ]
  },
  {
   "attachments": {},
   "cell_type": "markdown",
   "metadata": {},
   "source": [
    "## Exercice 2\n",
    "## 1 \n",
    "#### methode 1"
   ]
  },
  {
   "cell_type": "code",
   "execution_count": 111,
   "metadata": {},
   "outputs": [
    {
     "name": "stdout",
     "output_type": "stream",
     "text": [
      " \n",
      " Matrix product of P and Q: \n",
      "  [[ 9 20 24 29]\n",
      " [ 7 18 15 14]\n",
      " [10 30 15  5]]\n",
      "matmul: Input operand 1 has a mismatch in its core dimension 0, with gufunc signature (n?,k),(k,m?)->(n?,m?) (size 3 is different from 4)\n"
     ]
    }
   ],
   "source": [
    "import numpy as np\n",
    "\n",
    "# Define matrices P and Q\n",
    "P = np.array([[1, 7], [2, 3], [5, 0]]) # (3,2)\n",
    "Q = np.array([[2, 6, 3, 1], [1, 2, 3, 4]]) #(2,4)\n",
    "\n",
    "\n",
    "# Compute matrix product of P and Q\n",
    "try:\n",
    "    P_Q = np.matmul(P, Q)\n",
    "    print(\" \\n Matrix product of P and Q: \\n \", P_Q)\n",
    "except Exception as e:\n",
    "    print(e)\n",
    "\n",
    "# Compute matrix product of Q and P\n",
    "try:\n",
    "    Q_P = np.matmul(Q, P)\n",
    "    print(\" \\n Matrix product of Q and P: \\n \", Q_P)\n",
    "except Exception as e:\n",
    "    print(e)\n"
   ]
  },
  {
   "attachments": {},
   "cell_type": "markdown",
   "metadata": {},
   "source": [
    "## 1 \n",
    "### methode2"
   ]
  },
  {
   "cell_type": "code",
   "execution_count": 2,
   "metadata": {},
   "outputs": [
    {
     "name": "stdout",
     "output_type": "stream",
     "text": [
      "[[ 9 20 24 29]\n",
      " [ 7 18 15 14]\n",
      " [10 30 15  5]]\n"
     ]
    }
   ],
   "source": [
    "import numpy as np\n",
    "\n",
    "P = np.array([[1, 7], [2, 3], [5, 0]])\n",
    "Q = np.array([[2, 6, 3, 1], [1, 2, 3, 4]])\n",
    "\n",
    "product = np.dot(P, Q)\n",
    "print(product)\n"
   ]
  },
  {
   "attachments": {},
   "cell_type": "markdown",
   "metadata": {},
   "source": [
    "### 2"
   ]
  },
  {
   "cell_type": "code",
   "execution_count": 113,
   "metadata": {},
   "outputs": [
    {
     "name": "stdout",
     "output_type": "stream",
     "text": [
      "-38.000000000000014\n",
      "[[0. 2. 1. 3.]\n",
      " [3. 2. 8. 1.]\n",
      " [1. 0. 0. 3.]\n",
      " [0. 3. 2. 1.]]\n"
     ]
    }
   ],
   "source": [
    "M = np.array([[0, 2, 1, 3], [3, 2, 8, 1], [1, 0, 0, 3], [0, 3, 2, 1]])\n",
    "det_M = np.linalg.det(M)\n",
    "print(det_M)\n",
    "I = np.eye(4)\n",
    "\n",
    "product = np.dot(M, I)\n",
    "print(product)\n"
   ]
  },
  {
   "attachments": {},
   "cell_type": "markdown",
   "metadata": {},
   "source": [
    "## 2 \n",
    "### methode 2"
   ]
  },
  {
   "cell_type": "code",
   "execution_count": 27,
   "metadata": {},
   "outputs": [
    {
     "name": "stdout",
     "output_type": "stream",
     "text": [
      "Determinant of M:  -38.000000000000014\n",
      "\n",
      " I:\n",
      " [[1. 0. 0. 0.]\n",
      " [0. 1. 0. 0.]\n",
      " [0. 0. 1. 0.]\n",
      " [0. 0. 0. 1.]]\n",
      " \n",
      " Multiplication of M and I: \n",
      " [[0. 2. 1. 3.]\n",
      " [3. 2. 8. 1.]\n",
      " [1. 0. 0. 3.]\n",
      " [0. 3. 2. 1.]]\n"
     ]
    }
   ],
   "source": [
    "# Define matrix M\n",
    "M = np.array([[0, 2, 1, 3], [3, 2, 8, 1], [1, 0, 0, 3], [0, 3, 2, 1]])\n",
    "\n",
    "\n",
    "# Compute determinant of M\n",
    "det_M = np.linalg.det(M)\n",
    "print(\"Determinant of M: \", det_M)#calcule de determinant \n",
    "\n",
    "# Create identity matrix I\n",
    "I = np.eye(4)\n",
    "print(\"\\n I:\\n\",I)\n",
    "\n",
    "# Multiply M and I\n",
    "MI = np.matmul(M, I)\n",
    "print(\" \\n Multiplication of M and I: \\n\", MI)# toujour matrice identifiant X matrix* = matrix*\n",
    "\n",
    "\n"
   ]
  },
  {
   "attachments": {},
   "cell_type": "markdown",
   "metadata": {},
   "source": [
    "### 3"
   ]
  },
  {
   "cell_type": "code",
   "execution_count": 115,
   "metadata": {},
   "outputs": [
    {
     "name": "stdout",
     "output_type": "stream",
     "text": [
      "Inverse of M: \n",
      " [[-1.57894737 -0.07894737  1.23684211  1.10526316]\n",
      " [-0.63157895 -0.13157895  0.39473684  0.84210526]\n",
      " [ 0.68421053  0.18421053 -0.55263158 -0.57894737]\n",
      " [ 0.52631579  0.02631579 -0.07894737 -0.36842105]]\n",
      "Determinant of P:  0.0\n",
      "Singular matrix\n"
     ]
    }
   ],
   "source": [
    "# Compute inverse of M\n",
    "inv_M = np.linalg.inv(M)\n",
    "print(\"Inverse of M: \\n\", inv_M)\n",
    "\n",
    "# Define matrix P\n",
    "P = np.array([[0, 1, 0], [0, 0, 0], [1, 0, 1]])\n",
    "\n",
    "# Compute determinant of P\n",
    "det_P = np.linalg.det(P)\n",
    "print(\"Determinant of P: \", det_P)\n",
    "\n",
    "# Compute inverse of P\n",
    "try:\n",
    "    inv_P = np.linalg.inv(P)\n",
    "    print(\"Inverse of P: \\n\", inv_P)        #if det(A)=0 we c'est impossible d'inverser la matrix \n",
    "except Exception as e:\n",
    "    print(e)\n"
   ]
  },
  {
   "attachments": {},
   "cell_type": "markdown",
   "metadata": {},
   "source": [
    "### 4"
   ]
  },
  {
   "cell_type": "code",
   "execution_count": 21,
   "metadata": {},
   "outputs": [
    {
     "name": "stdout",
     "output_type": "stream",
     "text": [
      "Condition number of A:  5.878367738045564\n",
      "Rank of A:  3\n",
      "Augmented matrix [A, y]: \n",
      " [[1 1 0 2 1]\n",
      " [0 1 0 4 2]\n",
      " [1 0 1 2 1]]\n"
     ]
    }
   ],
   "source": [
    "# Define matrix A and y\n",
    "A = np.array([[1, 1, 0], [0, 1, 0], [1, 0, 1]])\n",
    "y = np.array([[1], [2], [1]])\n",
    "\n",
    "# Compute condition number of A\n",
    "cond_A = np.linalg.cond(A) # cond(A) = ||A|| * ||A^(-1)||\n",
    "print(\"Condition number of A: \", cond_A)\n",
    "\n",
    "# test = np.linalg.norm(A) * np.linalg.norm(np.linalg.inv(A))\n",
    "# print('test:',test)\n",
    "\n",
    "# Compute rank of A\n",
    "rank_A = np.linalg.matrix_rank(A)\n",
    "print(\"Rank of A: \", rank_A) # rank = min (nb lign ou  nb column )\n",
    "\n",
    "# Get augmented matrix [A, y]\n",
    "aug_A = np.column_stack((A, y)) # cancatination\n",
    "print(\"Augmented matrix [A, y]: \\n\", aug_A)\n"
   ]
  },
  {
   "attachments": {},
   "cell_type": "markdown",
   "metadata": {},
   "source": [
    "### 5"
   ]
  },
  {
   "cell_type": "code",
   "execution_count": 117,
   "metadata": {},
   "outputs": [
    {
     "name": "stdout",
     "output_type": "stream",
     "text": [
      "Solution:  [1 0 0]\n",
      "Number of iterations:  2\n",
      "Error:  0.0\n"
     ]
    }
   ],
   "source": [
    "# Define system of linear equations\n",
    "A = np.array([[8, 3, -3], [-2, -8, 5], [3, 5, 10]])\n",
    "b = np.array([14, 5, 8])\n",
    "\n",
    "# Define initial values for x\n",
    "x = np.array([0, 0, 0])\n",
    "\n",
    "# Define threshold 𝜖\n",
    "eps = 0.01\n",
    "\n",
    "# Define maximum number of iterations\n",
    "max_iter = 100\n",
    "\n",
    "# Initialize error and iteration counter\n",
    "error = float('inf')\n",
    "iter_count = 0\n",
    "\n",
    "# Implement Gauss-Seidel method\n",
    "while error > eps and iter_count < max_iter:\n",
    "    x_new = np.copy(x)\n",
    "    for i in range(len(A)):\n",
    "        s = 0\n",
    "        for j in range(len(A)):\n",
    "            if j != i:\n",
    "                s += A[i][j] * x[j]\n",
    "        x_new[i] = (b[i] - s) / A[i][i]\n",
    "    error = np.linalg.norm(x_new - x)\n",
    "    iter_count += 1\n",
    "    x = np.copy(x_new)\n",
    "\n",
    "# Print solution\n",
    "print(\"Solution: \", x)\n",
    "\n",
    "# Print number of iterations\n",
    "print(\"Number of iterations: \", iter_count)\n",
    "\n",
    "# Print error\n",
    "print(\"Error: \", error)\n"
   ]
  },
  {
   "attachments": {},
   "cell_type": "markdown",
   "metadata": {},
   "source": [
    "### 6\n"
   ]
  },
  {
   "cell_type": "code",
   "execution_count": 118,
   "metadata": {},
   "outputs": [
    {
     "name": "stdout",
     "output_type": "stream",
     "text": [
      "Solution:  [ 2.27413127 -0.85328185  0.54440154]\n"
     ]
    }
   ],
   "source": [
    "x = np.linalg.solve(A, b)\n",
    "print(\"Solution: \", x)\n"
   ]
  },
  {
   "attachments": {},
   "cell_type": "markdown",
   "metadata": {},
   "source": [
    "### 7"
   ]
  },
  {
   "attachments": {},
   "cell_type": "markdown",
   "metadata": {},
   "source": [
    "A * X = b ===>  x = A^-1 * b"
   ]
  },
  {
   "cell_type": "code",
   "execution_count": 119,
   "metadata": {},
   "outputs": [
    {
     "name": "stdout",
     "output_type": "stream",
     "text": [
      "Solution:  [ 2.27413127 -0.85328185  0.54440154]\n"
     ]
    }
   ],
   "source": [
    "x = np.matmul(np.linalg.inv(A), b)\n",
    "print(\"Solution: \", x)\n"
   ]
  },
  {
   "attachments": {},
   "cell_type": "markdown",
   "metadata": {},
   "source": [
    "### 8"
   ]
  },
  {
   "cell_type": "code",
   "execution_count": 32,
   "metadata": {},
   "outputs": [
    {
     "name": "stdout",
     "output_type": "stream",
     "text": [
      "Eigenvalues:  [ 7.0796991 +0.j         -1.83972579+3.16634801j -1.83972579-3.16634801j\n",
      " -0.40024753+0.j        ]\n",
      "\n",
      " Eigenvectors: \n",
      " [[-0.43431157+0.j          0.3205899 +0.06382272j  0.3205899 -0.06382272j\n",
      "  -0.81845667+0.j        ]\n",
      " [-0.74012233+0.j         -0.72163469+0.j         -0.72163469-0.j\n",
      "  -0.36173299+0.j        ]\n",
      " [-0.25110615+0.j          0.20764965-0.3620403j   0.20764965+0.3620403j\n",
      "   0.38781761+0.j        ]\n",
      " [-0.44781481+0.j          0.14791243+0.41990774j  0.14791243-0.41990774j\n",
      "   0.22107788+0.j        ]]\n"
     ]
    }
   ],
   "source": [
    "\n",
    "# Define matrix A\n",
    "A = np.array([[0, 2, 1, 3], [3, 2, 8, 1], [1, 0, 0, 3], [0, 3, 2, 1]])\n",
    "\n",
    "# Compute eigenvalues and eigenvectors of A\n",
    "eigenvalues, eigenvectors = np.linalg.eig(A)\n",
    "\n",
    "# Print eigenvalues\n",
    "print(\"Eigenvalues: \", eigenvalues)\n",
    "\n",
    "# Print eigenvectors\n",
    "print(\"\\n Eigenvectors: \\n\", eigenvectors)\n"
   ]
  }
 ],
 "metadata": {
  "kernelspec": {
   "display_name": "myenv",
   "language": "python",
   "name": "python3"
  },
  "language_info": {
   "codemirror_mode": {
    "name": "ipython",
    "version": 3
   },
   "file_extension": ".py",
   "mimetype": "text/x-python",
   "name": "python",
   "nbconvert_exporter": "python",
   "pygments_lexer": "ipython3",
   "version": "3.10.8"
  },
  "orig_nbformat": 4,
  "vscode": {
   "interpreter": {
    "hash": "896befeca508922fd3d1682fb0305be9a6ae22832c2870a263a58027bbc78f81"
   }
  }
 },
 "nbformat": 4,
 "nbformat_minor": 2
}

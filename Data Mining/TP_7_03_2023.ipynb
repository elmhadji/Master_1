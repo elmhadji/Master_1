{
 "cells": [
  {
   "cell_type": "code",
   "execution_count": 1,
   "metadata": {},
   "outputs": [],
   "source": [
    "import numpy as np"
   ]
  },
  {
   "cell_type": "code",
   "execution_count": 2,
   "metadata": {},
   "outputs": [],
   "source": [
    "def calculate_distance ( start = (2,4) , end = (2,4)):\n",
    "    return np.sqrt((end[1] - start[1])**2 +(end[0] - start[0])**2)"
   ]
  },
  {
   "cell_type": "code",
   "execution_count": 31,
   "metadata": {},
   "outputs": [
    {
     "name": "stdout",
     "output_type": "stream",
     "text": [
      "[[2.0, 9.848857801796104, 7.810249675906654, 5.830951894845301, 11.40175425099138, 22.47220505424423, 123.79418403139947], [5.0, 6.324555320336759, 2.0, 1.0, 5.0, 15.811388300841896, 117.51595636338071]]\n"
     ]
    }
   ],
   "source": [
    "nombreC = int(input(\"entrer nmber de centre:\"))\n",
    "pointC = []\n",
    "for i in range (nombreC):\n",
    "    x=int(input(f\"Entrer x{i} :\"))\n",
    "    y=int(input(f\"Entrer y{i} :\"))\n",
    "    pointC.append([x,y])\n",
    "number  = int(input(\"entrer nmber de point:\"))\n",
    "\n",
    "point = []\n",
    "\n",
    "distance = []\n",
    "\n",
    "for i in range (number):\n",
    "    x=int(input(f\"Entrer x{i} :\"))\n",
    "    y=int(input(f\"Entrer y{i} :\"))\n",
    "    point.append([x,y])\n",
    "for i in range(nombreC):\n",
    "    d=[]\n",
    "    for j in range(number):\n",
    "        d.append(calculate_distance((pointC[i][0],pointC[i][1]),(point[j][0],point[j][1])))\n",
    "    distance.append(d)\n",
    "print(distance)\n"
   ]
  },
  {
   "cell_type": "code",
   "execution_count": 32,
   "metadata": {},
   "outputs": [
    {
     "name": "stdout",
     "output_type": "stream",
     "text": [
      "les point de centre 0\n",
      "\n",
      "point N 0 x=0  y=2\n",
      "les point de centre 1\n",
      "\n",
      "point N 1 x=9  y=4\n",
      "point N 2 x=5  y=6\n",
      "point N 3 x=3  y=5\n",
      "point N 4 x=7  y=9\n",
      "point N 5 x=12  y=19\n",
      "point N 6 x=90  y=85\n"
     ]
    }
   ],
   "source": [
    "resultat= []\n",
    "for i in range(nombreC):\n",
    "    resultat.append([])\n",
    "\n",
    "for i in range(number):\n",
    "    minum=None\n",
    "    imin=None\n",
    "    xmin=None\n",
    "    ymin=None\n",
    "    for j in range(nombreC):\n",
    "        if(minum==None or minum>distance[j][i]):\n",
    "            minum=distance[j][i]\n",
    "            imin=j\n",
    "            xmin=point[i][0]\n",
    "            ymin=point[i][1]\n",
    "    if imin!=None:\n",
    "        resultat[imin].append([i,xmin,ymin])\n",
    "for i in range(len(resultat)):\n",
    "    print(f\"les point de centre {i}\\n\")\n",
    "    for j in range(len(resultat[i])):\n",
    "        print(f\"point N {resultat[i][j][0]} x={resultat[i][j][1]}  y={resultat[i][j][2]}\")"
   ]
  },
  {
   "cell_type": "code",
   "execution_count": 5,
   "metadata": {},
   "outputs": [
    {
     "name": "stdout",
     "output_type": "stream",
     "text": [
      "the cordinate of each point [(1, 5), (6, 4), (9, 2), (1, 4), (3, 8), (7, 2)]\n",
      "the distance between each points \n",
      "[[0.         5.09901951 8.54400375 1.         3.60555128 6.70820393]\n",
      " [5.09901951 0.         3.60555128 5.         5.         2.23606798]\n",
      " [8.54400375 3.60555128 0.         8.24621125 8.48528137 2.        ]\n",
      " [1.         5.         8.24621125 0.         4.47213595 6.32455532]\n",
      " [3.60555128 5.         8.48528137 4.47213595 0.         7.21110255]\n",
      " [6.70820393 2.23606798 2.         6.32455532 7.21110255 0.        ]]\n"
     ]
    }
   ],
   "source": [
    "# list of points\n",
    "\n",
    "points = []\n",
    "\n",
    "number_of_point = int ( input(\"enter the number of point \") )\n",
    "\n",
    "for i in range(number_of_point):\n",
    "    x = int( input(f'enter the X{i+1} cordinate:') )\n",
    "    y = int( input(f'enter the Y{i+1} cordinate:') )\n",
    "    points.append((x,y))\n",
    "\n",
    "\n",
    "distance_of_points = np.zeros((number_of_point , number_of_point))\n",
    "\n",
    "# array of distance between each point\n",
    "\n",
    "for row in range(number_of_point):\n",
    "    \n",
    "    for column in range(number_of_point):\n",
    "\n",
    "        distance_of_points[row][column] = calculate_distance(points[row] , points[column])\n",
    "\n"
   ]
  },
  {
   "cell_type": "code",
   "execution_count": 22,
   "metadata": {},
   "outputs": [
    {
     "name": "stdout",
     "output_type": "stream",
     "text": [
      "the cordinate of each point [(1, 5), (6, 4), (9, 2), (1, 4), (3, 8), (7, 2)]\n",
      "the distance between each points \n",
      "[[0.         5.09901951 8.54400375 1.         3.60555128 6.70820393]\n",
      " [5.09901951 0.         3.60555128 5.         5.         2.23606798]\n",
      " [8.54400375 3.60555128 0.         8.24621125 8.48528137 2.        ]\n",
      " [1.         5.         8.24621125 0.         4.47213595 6.32455532]\n",
      " [3.60555128 5.         8.48528137 4.47213595 0.         7.21110255]\n",
      " [6.70820393 2.23606798 2.         6.32455532 7.21110255 0.        ]]\n"
     ]
    }
   ],
   "source": [
    "print(f\"the cordinate of each point {points}\")\n",
    "print(f\"the distance between each points \\n{distance_of_points}\")"
   ]
  },
  {
   "cell_type": "code",
   "execution_count": 16,
   "metadata": {},
   "outputs": [],
   "source": [
    "# define the center \n",
    "center_cordinate = []\n",
    "distance_between_center = []\n",
    "result = []\n",
    "number_of_center = int( input('enter the number of center') )\n",
    "\n",
    "for i in range (number_of_center):\n",
    "    x = int( input(f'enter the center X{i+1} cordinate:') )\n",
    "    y = int( input(f'enter the center Y{i+1} cordinate:') )\n",
    "    center_cordinate.append((x,y))\n",
    "    distance_between_center.append([])\n",
    "    result.append([])\n",
    "\n",
    "\n",
    "\n",
    "for center_index , center in enumerate(center_cordinate):\n",
    "    for point_index , point in enumerate(points):\n",
    "        distance_between_center[center_index].append(calculate_distance(center , point ))\n",
    "        \n"
   ]
  },
  {
   "cell_type": "code",
   "execution_count": 17,
   "metadata": {},
   "outputs": [
    {
     "name": "stdout",
     "output_type": "stream",
     "text": [
      "the cordinate of the centers [(1, 2), (3, 1), (2, 2)]\n",
      "\n",
      "the distance between each point and each center :\n",
      " [[3.0, 5.385164807134504, 8.0, 2.0, 6.324555320336759, 6.0], [4.47213595499958, 4.242640687119285, 6.082762530298219, 3.605551275463989, 7.0, 4.123105625617661], [3.1622776601683795, 4.47213595499958, 7.0, 2.23606797749979, 6.082762530298219, 5.0]]\n"
     ]
    }
   ],
   "source": [
    "print(f'the cordinate of the centers {center_cordinate}\\n')\n",
    "print(f'the distance between each point and each center :\\n {distance_between_center}')"
   ]
  },
  {
   "cell_type": "code",
   "execution_count": 18,
   "metadata": {},
   "outputs": [],
   "source": [
    "# classification of the point depending on there distance\n",
    "\n",
    "for index in range(number_of_point):\n",
    "    compare_list = []\n",
    "    for sublist in distance_between_center:\n",
    "        compare_list.append(sublist[index])\n",
    "    close_to_center_index = compare_list.index(min(compare_list))\n",
    "    result[close_to_center_index].append(points[index])"
   ]
  },
  {
   "cell_type": "code",
   "execution_count": 21,
   "metadata": {},
   "outputs": [
    {
     "name": "stdout",
     "output_type": "stream",
     "text": [
      "the points [(1, 5), (1, 4)] belong to the center (1, 2)\n",
      "the points [(6, 4), (9, 2), (7, 2)] belong to the center (3, 1)\n",
      "the points [(3, 8)] belong to the center (2, 2)\n"
     ]
    }
   ],
   "source": [
    "# print(f'the result of classification :\\n {result}')\n",
    "for center_index , center_class in enumerate(result):\n",
    "    print(f'the points {center_class} belong to the center {center_cordinate[center_index]}')"
   ]
  }
 ],
 "metadata": {
  "kernelspec": {
   "display_name": "myenv",
   "language": "python",
   "name": "python3"
  },
  "language_info": {
   "codemirror_mode": {
    "name": "ipython",
    "version": 3
   },
   "file_extension": ".py",
   "mimetype": "text/x-python",
   "name": "python",
   "nbconvert_exporter": "python",
   "pygments_lexer": "ipython3",
   "version": "3.10.8"
  },
  "orig_nbformat": 4
 },
 "nbformat": 4,
 "nbformat_minor": 2
}

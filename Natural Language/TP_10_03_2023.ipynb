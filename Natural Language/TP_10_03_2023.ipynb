{
 "cells": [
  {
   "cell_type": "code",
   "execution_count": 6,
   "metadata": {},
   "outputs": [
    {
     "name": "stdout",
     "output_type": "stream",
     "text": [
      "Cosine similarity between 'cat' and 'dog' - CBOW :  -0.0190663\n",
      "Cosine similarity between 'cat' and 'dog' - Skip Gram :  0.54982084\n"
     ]
    }
   ],
   "source": [
    "from nltk.tokenize import sent_tokenize, word_tokenize\n",
    "\n",
    " \n",
    "import gensim\n",
    "from gensim.models import Word2Vec\n",
    "sample = open(\"file.text\")\n",
    "s = sample.read()\n",
    " \n",
    "\n",
    "f = s.replace(\"\\n\", \" \")\n",
    " \n",
    "data = []\n",
    " \n",
    "\n",
    "for i in sent_tokenize(f):\n",
    "    temp = []\n",
    "     \n",
    "    \n",
    "    for j in word_tokenize(i):\n",
    "        temp.append(j.lower())\n",
    " \n",
    "    data.append(temp)\n",
    " \n",
    "\n",
    "model1 = gensim.models.Word2Vec(data, min_count = 1,\n",
    "                              vector_size = 100, window = 5)\n",
    " \n",
    "\n",
    "print(\"Cosine similarity between 'cat' \" +\n",
    "               \"and 'dog' - CBOW : \",\n",
    "    model1.wv.similarity('cat', 'dog'))\n",
    "\n",
    "\n",
    "model2 = gensim.models.Word2Vec(data, min_count = 1, vector_size = 100,\n",
    "                                             window = 5, sg = 1)\n",
    " \n",
    "\n",
    "print(\"Cosine similarity between 'cat' \" +\n",
    "          \"and 'dog' - Skip Gram : \",\n",
    "    model2.wv.similarity('cat', 'dog'))\n",
    "\n",
    " "
   ]
  }
 ],
 "metadata": {
  "kernelspec": {
   "display_name": "myenv",
   "language": "python",
   "name": "python3"
  },
  "language_info": {
   "codemirror_mode": {
    "name": "ipython",
    "version": 3
   },
   "file_extension": ".py",
   "mimetype": "text/x-python",
   "name": "python",
   "nbconvert_exporter": "python",
   "pygments_lexer": "ipython3",
   "version": "3.10.8"
  },
  "orig_nbformat": 4
 },
 "nbformat": 4,
 "nbformat_minor": 2
}

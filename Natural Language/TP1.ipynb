{
 "cells": [
  {
   "cell_type": "code",
   "execution_count": 1,
   "metadata": {},
   "outputs": [],
   "source": [
    "import nltk "
   ]
  },
  {
   "cell_type": "code",
   "execution_count": 2,
   "metadata": {},
   "outputs": [],
   "source": [
    "sentence_0 = \"At eight o'clock on Thursday morning Arthur didn't feel very good.\"\n",
    "sentence_1 = \"الصَّابِرِينَ وَالصَّادِقِينَ وَالْقَانِتِينَ وَالْمُنفِقِينَ وَالْمُسْتَغْفِرِينَ بِالْأَسْحَارِ\"\n",
    "sentence_2 = \"الَّذِينَ يُنفِقُونَ أَمْوَالَهُم بِاللَّيْلِ وَالنَّهَارِ سِرًّا وَعَلَانِيَةً\"\n",
    "sentence_3 = \"يَدْعُونَ رَبَّهُمْ خَوْفًا وَطَمَعًا وَمِمَّا رَزَقْنَاهُمْ يُنفِقُونَ\"\n",
    "sentence_4 = \" الْحَمْدُ لِلَّهِ رَبِّ الْعَالَمِينَ \"\n"
   ]
  },
  {
   "cell_type": "code",
   "execution_count": 3,
   "metadata": {},
   "outputs": [
    {
     "data": {
      "text/plain": [
       "['At',\n",
       " 'eight',\n",
       " \"o'clock\",\n",
       " 'on',\n",
       " 'Thursday',\n",
       " 'morning',\n",
       " 'Arthur',\n",
       " 'did',\n",
       " \"n't\",\n",
       " 'feel',\n",
       " 'very',\n",
       " 'good',\n",
       " '.']"
      ]
     },
     "execution_count": 3,
     "metadata": {},
     "output_type": "execute_result"
    }
   ],
   "source": [
    "sentence_0_tokens = nltk.word_tokenize(sentence_0)\n",
    "sentence_0_tokens"
   ]
  },
  {
   "attachments": {},
   "cell_type": "markdown",
   "metadata": {},
   "source": [
    "# Tage and Description (POS)"
   ]
  },
  {
   "attachments": {},
   "cell_type": "markdown",
   "metadata": {},
   "source": [
    "file:///home/elmhadji/Pictures/Screenshots/Screenshot%20from%202023-02-10%2012-05-35.png\n"
   ]
  },
  {
   "cell_type": "code",
   "execution_count": 4,
   "metadata": {},
   "outputs": [
    {
     "name": "stdout",
     "output_type": "stream",
     "text": [
      "[('Joe', 'NN')]\n",
      "[('waited', 'VBD')]\n",
      "[('for', 'IN')]\n",
      "[('the', 'DT')]\n",
      "[('train', 'NN')]\n",
      "[('.', '.')]\n"
     ]
    }
   ],
   "source": [
    "sentence = \"Joe waited for the train.\"\n",
    "#sentence = \"Mary and Samantha took the bus.\"\n",
    "#sentence = \"Mary and Samantha arrived at the bus station before noon, and they left on the bus before I arrived.\"\n",
    "#sentence = \"الصَّابِرِينَ وَالصَّادِقِينَ وَالْقَانِتِينَ وَالْمُنفِقِينَ وَالْمُسْتَغْفِرِينَ بِالْأَسْحَارِ\"\n",
    "#sentence = \"الَّذِينَ يُنفِقُونَ أَمْوَالَهُم بِاللَّيْلِ وَالنَّهَارِ سِرًّا وَعَلَانِيَةً\"\n",
    "#sentence = \"يَدْعُونَ رَبَّهُمْ خَوْفًا وَطَمَعًا وَمِمَّا رَزَقْنَاهُمْ يُنفِقُونَ\"\n",
    "#sentence = \"الْحَمْدُ لِلَّهِ رَبِّ الْعَالَمِينَ\"\n",
    "\n",
    "\n",
    "\n",
    "sentence_token = nltk.word_tokenize(sentence)\n",
    "\n",
    "for word in sentence_token:\n",
    "    print(nltk.pos_tag([word]))"
   ]
  },
  {
   "attachments": {},
   "cell_type": "markdown",
   "metadata": {},
   "source": [
    "# Stemming <br>\n",
    "get the origin of word from many words like <br> <br>\n",
    "<b> affectation , affects , affections , affected ====> there origine is affect </b>"
   ]
  },
  {
   "attachments": {},
   "cell_type": "markdown",
   "metadata": {},
   "source": [
    "### there are many stemmer algorithme some of theme "
   ]
  },
  {
   "attachments": {},
   "cell_type": "markdown",
   "metadata": {},
   "source": [
    "## SnowballStemmer"
   ]
  },
  {
   "cell_type": "code",
   "execution_count": 5,
   "metadata": {},
   "outputs": [
    {
     "name": "stdout",
     "output_type": "stream",
     "text": [
      "word : الصَّابِرِينَ  origine : صابر\n",
      "word : وَالصَّادِقِينَ  origine : صادق\n",
      "word : وَالْقَانِتِينَ  origine : والقا\n",
      "word : وَالْمُنفِقِينَ  origine : منفق\n",
      "word : وَالْمُسْتَغْفِرِينَ  origine : مستغفر\n",
      "word : بِالْأَسْحَارِ  origine : اسحار\n"
     ]
    }
   ],
   "source": [
    "from nltk.stem import SnowballStemmer \n",
    "\n",
    "s = SnowballStemmer('arabic')\n",
    "#s = SnowballStemmer('english')\n",
    "\n",
    "\n",
    "sentence = \"الصَّابِرِينَ وَالصَّادِقِينَ وَالْقَانِتِينَ وَالْمُنفِقِينَ وَالْمُسْتَغْفِرِينَ بِالْأَسْحَارِ\"\n",
    "#sentence = \"Mary and Samantha arrived at the bus station before noon, and they left on the bus before I arrived.\"\n",
    "\n",
    "sentence_token = nltk.word_tokenize(sentence)\n",
    "for word in sentence_token:\n",
    "    print(f\"word : {word}  origine : {s.stem(word)}\")\n",
    "\n"
   ]
  },
  {
   "attachments": {},
   "cell_type": "markdown",
   "metadata": {},
   "source": [
    "## PorterStemmer"
   ]
  },
  {
   "cell_type": "code",
   "execution_count": 6,
   "metadata": {},
   "outputs": [
    {
     "name": "stdout",
     "output_type": "stream",
     "text": [
      "word : give  origine : give\n",
      "word : given  origine : given\n",
      "word : gave  origine : gave\n",
      "word : giving  origine : give\n"
     ]
    }
   ],
   "source": [
    "from nltk.stem import PorterStemmer \n",
    "\n",
    "s = PorterStemmer()\n",
    "\n",
    "#sentence = \"الصَّابِرِينَ وَالصَّادِقِينَ وَالْقَانِتِينَ وَالْمُنفِقِينَ وَالْمُسْتَغْفِرِينَ بِالْأَسْحَارِ\"\n",
    "sentence = \"Mary and Samantha arrived at the bus station before noon, and they left on the bus before I arrived.\"\n",
    "\n",
    "sentence_token = nltk.word_tokenize(sentence)\n",
    "\n",
    "word_to_stem = ['give' , 'given' , 'gave' , 'giving']\n",
    "for word in word_to_stem:\n",
    "    print(f\"word : {word}  origine : {s.stem(word)}\")\n"
   ]
  },
  {
   "attachments": {},
   "cell_type": "markdown",
   "metadata": {},
   "source": [
    "# Lemitization"
   ]
  },
  {
   "attachments": {},
   "cell_type": "markdown",
   "metadata": {},
   "source": [
    "didn't give us the proper result because it presume all word that is noun you need to use <b> POS </b>"
   ]
  },
  {
   "cell_type": "code",
   "execution_count": 7,
   "metadata": {},
   "outputs": [
    {
     "name": "stdout",
     "output_type": "stream",
     "text": [
      "word : give  origine : give\n",
      "word : given  origine : given\n",
      "word : gave  origine : gave\n",
      "word : giving  origine : giving\n"
     ]
    }
   ],
   "source": [
    "from nltk.stem import wordnet\n",
    "from nltk.stem import WordNetLemmatizer\n",
    "\n",
    "word_lem = WordNetLemmatizer()\n",
    "\n",
    "word_to_stem = ['give' , 'given' , 'gave' , 'giving']\n",
    "\n",
    "for word in word_to_stem:\n",
    "    print(f\"word : {word}  origine : {word_lem.lemmatize(word)}\")\n",
    "\n"
   ]
  },
  {
   "attachments": {},
   "cell_type": "markdown",
   "metadata": {},
   "source": [
    "# Stop Word "
   ]
  },
  {
   "cell_type": "code",
   "execution_count": 8,
   "metadata": {},
   "outputs": [
    {
     "data": {
      "text/plain": [
       "754"
      ]
     },
     "execution_count": 8,
     "metadata": {},
     "output_type": "execute_result"
    }
   ],
   "source": [
    "from nltk.corpus import stopwords\n",
    "\n",
    "stopwords.words('arabic')\n",
    "len(stopwords.words('arabic'))"
   ]
  }
 ],
 "metadata": {
  "kernelspec": {
   "display_name": "myenv",
   "language": "python",
   "name": "python3"
  },
  "language_info": {
   "codemirror_mode": {
    "name": "ipython",
    "version": 3
   },
   "file_extension": ".py",
   "mimetype": "text/x-python",
   "name": "python",
   "nbconvert_exporter": "python",
   "pygments_lexer": "ipython3",
   "version": "3.10.8"
  },
  "orig_nbformat": 4,
  "vscode": {
   "interpreter": {
    "hash": "896befeca508922fd3d1682fb0305be9a6ae22832c2870a263a58027bbc78f81"
   }
  }
 },
 "nbformat": 4,
 "nbformat_minor": 2
}

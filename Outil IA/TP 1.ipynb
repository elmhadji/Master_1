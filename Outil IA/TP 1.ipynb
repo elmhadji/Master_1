{
 "cells": [
  {
   "attachments": {},
   "cell_type": "markdown",
   "metadata": {},
   "source": [
    "# Unkwon Part "
   ]
  },
  {
   "cell_type": "code",
   "execution_count": 1,
   "metadata": {},
   "outputs": [
    {
     "name": "stdout",
     "output_type": "stream",
     "text": [
      "96\n"
     ]
    }
   ],
   "source": [
    "import numpy as np \n",
    "\n",
    "a=np.array([[1,-4,4],[2,6,4],[2,3,6]])\n",
    "#b=np.array([2,3,4])\n",
    "#print(type(.7))\n",
    "\n",
    "def calcule(A):\n",
    "    n,m=A.shape\n",
    "    if n!=m:\n",
    "        print('la matrice doit etre carree')\n",
    "    elif(n==2):\n",
    "        return A[0,0]*A[1,1]-A[0,1]*A[1,0]\n",
    "    else:\n",
    "        return A[0,0]*calcule(np.array([[A[1,1],A[1,2]],[A[2,1],A[2,2]]]))\\\n",
    "            -A[0,1]*calcule(np.array([[A[1,1],A[1,2]],[A[2,1],A[2,2]]]))\\\n",
    "                +A[0,2]*calcule(np.array([[A[1,0],A[1,1]],[A[2,0],A[2,1]]]))\n",
    "\n",
    "print(calcule(a))"
   ]
  },
  {
   "attachments": {},
   "cell_type": "markdown",
   "metadata": {},
   "source": [
    "# EXercice 1 (Vectors)."
   ]
  },
  {
   "attachments": {},
   "cell_type": "markdown",
   "metadata": {},
   "source": [
    "### Question 1"
   ]
  },
  {
   "attachments": {},
   "cell_type": "markdown",
   "metadata": {},
   "source": [
    "Create a row vector and column vector, and show the shape of the vectors."
   ]
  },
  {
   "cell_type": "code",
   "execution_count": 2,
   "metadata": {},
   "outputs": [
    {
     "name": "stdout",
     "output_type": "stream",
     "text": [
      "(1, 3)\n",
      "(3, 1)\n"
     ]
    }
   ],
   "source": [
    "import numpy as np\n",
    "\n",
    "# Create a row vector\n",
    "row_vector = np.array([[1, 2, 3]])\n",
    "print(row_vector.shape) # Output: (1,3)\n",
    "\n",
    "# Create a column vector\n",
    "column_vector = row_vector.T\n",
    "print(column_vector.shape) # Output: (3, 1)\n",
    "\n"
   ]
  },
  {
   "attachments": {},
   "cell_type": "markdown",
   "metadata": {},
   "source": [
    "### Question 2"
   ]
  },
  {
   "attachments": {},
   "cell_type": "markdown",
   "metadata": {},
   "source": [
    "(2) Transpose the row vector we defined above into a column vector and calculate the\n",
    "L1 , L2 , and L∞ norm of it. Verify that the L∞ norm of a vector is equivalent to\n",
    "the maximum value of the elements in the vector."
   ]
  },
  {
   "cell_type": "code",
   "execution_count": 3,
   "metadata": {},
   "outputs": [
    {
     "name": "stdout",
     "output_type": "stream",
     "text": [
      "shape of transposed_column_vector: (3, 1)\n",
      "L1 norm: 6.0\n",
      "L2 norm: 3.7416573867739413\n",
      "L∞ norm: 3.0\n",
      "Maximum value of the elements in the vector: 3\n"
     ]
    }
   ],
   "source": [
    "# Transpose the row vector into a column vector\n",
    "transposed_column_vector = row_vector.T\n",
    "print(\"shape of transposed_column_vector:\",transposed_column_vector.shape) # Output: (3, 1)\n",
    "\n",
    "# Calculate the L1 norm\n",
    "l1_norm = np.linalg.norm(transposed_column_vector, ord=1)\n",
    "print(\"L1 norm:\", l1_norm)\n",
    "\n",
    "# Calculate the L2 norm\n",
    "l2_norm = np.linalg.norm(transposed_column_vector)\n",
    "print(\"L2 norm:\", l2_norm)\n",
    "\n",
    "# Calculate the L∞ norm\n",
    "linf_norm = np.linalg.norm(transposed_column_vector, ord=np.inf)\n",
    "print(\"L∞ norm:\", linf_norm)\n",
    "\n",
    "# Maximum value of the elements in the vector\n",
    "max_val = np.max(column_vector)\n",
    "print(\"Maximum value of the elements in the vector:\", max_val)"
   ]
  },
  {
   "attachments": {},
   "cell_type": "markdown",
   "metadata": {},
   "source": [
    "### Question 3"
   ]
  },
  {
   "attachments": {},
   "cell_type": "markdown",
   "metadata": {},
   "source": [
    "Compute the angle between the vectors v = [10, 9, 3] and w = [2, 5, 12]."
   ]
  },
  {
   "attachments": {},
   "cell_type": "markdown",
   "metadata": {},
   "source": [
    "We already know that V * W = |V| * |W| * COS(Alpha)"
   ]
  },
  {
   "cell_type": "code",
   "execution_count": 4,
   "metadata": {},
   "outputs": [
    {
     "name": "stdout",
     "output_type": "stream",
     "text": [
      "Angle (in radians): 0.979924710443726\n",
      "Angle (in degrees): 56.14555014900476\n"
     ]
    }
   ],
   "source": [
    "import numpy as np\n",
    "\n",
    "v = np.array([10, 9, 3])\n",
    "w = np.array([2, 5, 12])\n",
    "\n",
    "dot_product = np.dot(v, w)\n",
    "norm_v = np.linalg.norm(v)\n",
    "norm_w = np.linalg.norm(w)\n",
    "cos_theta = dot_product / (norm_v * norm_w)\n",
    "angle = np.arccos(cos_theta)\n",
    "\n",
    "print(\"Angle (in radians):\", angle)\n",
    "\n",
    "angle_deg = np.degrees(angle)\n",
    "print(\"Angle (in degrees):\", angle_deg)\n"
   ]
  },
  {
   "attachments": {},
   "cell_type": "markdown",
   "metadata": {},
   "source": [
    "### Question 4"
   ]
  },
  {
   "attachments": {},
   "cell_type": "markdown",
   "metadata": {},
   "source": [
    "Given the vectors v = [0, 2, 0] and w = [3, 0, 0], use the Numpy function cross to\n",
    "compute the cross product of v and w."
   ]
  },
  {
   "cell_type": "code",
   "execution_count": 5,
   "metadata": {},
   "outputs": [
    {
     "name": "stdout",
     "output_type": "stream",
     "text": [
      "Cross product: [ 0  0 -6]\n"
     ]
    }
   ],
   "source": [
    "# Define two vectors\n",
    "v = np.array([0, 2, 0])\n",
    "w = np.array([3, 0, 0])\n",
    "\n",
    "# Compute cross product\n",
    "cross_product = np.cross(v, w) #TODO:figure out how the cross function work\n",
    "\n",
    "# Print cross product\n",
    "print(\"Cross product:\", cross_product)\n"
   ]
  },
  {
   "attachments": {},
   "cell_type": "markdown",
   "metadata": {},
   "source": [
    "### Question 5"
   ]
  },
  {
   "attachments": {},
   "cell_type": "markdown",
   "metadata": {},
   "source": [
    "Given the row vectors v = [0, 3, 2], w = [4, 1, 1], and u = [0, 2, 0], write the vector\n",
    "x = [8, 1, 4] as a linear combination of v, w, and u."
   ]
  },
  {
   "attachments": {},
   "cell_type": "markdown",
   "metadata": {},
   "source": [
    "a * 0 + b * 4 + c * 0 = 8 <br>\n",
    "a * 3 + b * 1 + c * 2 = 1 <br>\n",
    "a * 2 + b * 1 + c * 0 = 4 <br>"
   ]
  },
  {
   "attachments": {},
   "cell_type": "markdown",
   "metadata": {},
   "source": [
    "We know that <B> Coffecient Matrix * solution = X  </B>"
   ]
  },
  {
   "cell_type": "code",
   "execution_count": 6,
   "metadata": {},
   "outputs": [
    {
     "name": "stdout",
     "output_type": "stream",
     "text": [
      "Solution [ 1.  2. -2.]\n",
      "the solution are correct \n"
     ]
    }
   ],
   "source": [
    "# Define row vectors\n",
    "v = np.array([0, 3, 2])\n",
    "w = np.array([4, 1, 1])\n",
    "u = np.array([0, 2, 0])\n",
    "x = np.array([8, 1, 4])\n",
    "\n",
    "#Create matrix of coefficients\n",
    "coefficient_matrix = np.column_stack((v, w, u))\n",
    "\n",
    "#Solve system of linear equations\n",
    "solution = np.linalg.solve(coefficient_matrix, x)\n",
    "\n",
    "#Print solution\n",
    "print(\"Solution\",solution)\n",
    "\n",
    "#cheking the solution \n",
    "if np.allclose(np.dot(coefficient_matrix , solution) , x):\n",
    "    print(\"the solution are correct \")\n",
    "else:\n",
    "    print(\"the solution are not correct \")\n"
   ]
  },
  {
   "attachments": {},
   "cell_type": "markdown",
   "metadata": {},
   "source": [
    "# Excercice 2"
   ]
  },
  {
   "attachments": {},
   "cell_type": "markdown",
   "metadata": {},
   "source": [
    "### Question 1"
   ]
  },
  {
   "attachments": {},
   "cell_type": "markdown",
   "metadata": {},
   "source": [
    "Let the Python matrices P = [[1, 7], [2, 3], [5, 0]] and Q = [[2, 6, 3, 1], [1, 2, 3, 4]].\n",
    "Compute the matrix product of P and Q. Show that the product of Q and P will\n",
    "produce an error."
   ]
  },
  {
   "cell_type": "code",
   "execution_count": 7,
   "metadata": {},
   "outputs": [
    {
     "name": "stdout",
     "output_type": "stream",
     "text": [
      "the shape of array Q: (2, 4)\n",
      "the shape of array P: (3, 2)\n",
      "\n",
      " The Matrix Product:\n",
      " [[ 9 20 24 29]\n",
      " [ 7 18 15 14]\n",
      " [10 30 15  5]]\n",
      "\n",
      " The shape Matrix Product: (3, 4)\n"
     ]
    }
   ],
   "source": [
    "import numpy as np\n",
    "\n",
    "#Define the matrix\n",
    "P = np.array([[1, 7], [2, 3], [5, 0]])\n",
    "Q = np.array([[2, 6, 3, 1], [1, 2, 3, 4]])\n",
    "\n",
    "\n",
    "print(\"the shape of array Q:\", Q.shape)\n",
    "print(\"the shape of array P:\", P.shape)\n",
    "\n",
    "try:\n",
    "    #to show that the the product of Q and P will produce an Error just uncoment the next instruction \n",
    "    #R = np.dot(Q, P)\n",
    "    R = np.dot(P, Q)\n",
    "    print(\"\\n The Matrix Product:\\n\",R)\n",
    "    print(\"\\n The shape Matrix Product:\",R.shape)\n",
    "\n",
    "except ValueError:\n",
    "    print(\"Error: The number of columns in P is not equal to the number of rows in Q.\")"
   ]
  },
  {
   "attachments": {},
   "cell_type": "markdown",
   "metadata": {},
   "source": [
    "### Question 2"
   ]
  },
  {
   "attachments": {},
   "cell_type": "markdown",
   "metadata": {},
   "source": [
    "Use Python to find the determinant of the matrix <br><B>M = [[0, 2, 1, 3], [3, 2, 8, 1], [1, 0, 0, 3], [0, 3, 2, 1]].</B><br>\n",
    "Use the np.eye function to produce a 4 ? 4 identity matrix, I. Multiply M by I to\n",
    "show that the result is M."
   ]
  },
  {
   "attachments": {},
   "cell_type": "markdown",
   "metadata": {},
   "source": [
    "multiplying a matrix by the identity matrix leaves the matrix unchanged."
   ]
  },
  {
   "cell_type": "code",
   "execution_count": 8,
   "metadata": {},
   "outputs": [
    {
     "name": "stdout",
     "output_type": "stream",
     "text": [
      "Determinant of M:  -38.000000000000014\n",
      "The M array and the M*I are equal\n",
      "M*I:\n",
      " [[0. 2. 1. 3.]\n",
      " [3. 2. 8. 1.]\n",
      " [1. 0. 0. 3.]\n",
      " [0. 3. 2. 1.]]\n"
     ]
    }
   ],
   "source": [
    "#define the matrix\n",
    "M = np.array([[0, 2, 1, 3], [3, 2, 8, 1], [1, 0, 0, 3], [0, 3, 2, 1]])\n",
    "\n",
    "#find the determinant of array M using the det function \n",
    "determinant = np.linalg.det(M)\n",
    "print(\"Determinant of M: \",determinant)\n",
    "\n",
    "#create the identity matrix I 4*4\n",
    "I = np.eye(4)\n",
    "M_I = np.dot(M,I)\n",
    "if np.allclose(M , M_I):\n",
    "    print (\"The M array and the M*I are equal\")\n",
    "else:\n",
    "    print (\"The M array and the M*I are not equal\")\n",
    "\n",
    "print(\"M*I:\\n\",M_I)\n"
   ]
  },
  {
   "attachments": {},
   "cell_type": "markdown",
   "metadata": {},
   "source": [
    "### Question 3"
   ]
  },
  {
   "attachments": {},
   "cell_type": "markdown",
   "metadata": {},
   "source": [
    "The matrix M (in the previous example) has a nonzero determinant. Compute the\n",
    "inverse of M. Show that the matrix P = [[0, 1, 0], [0, 0, 0], [1, 0, 1]] has a determinant\n",
    "value of 0 and therefore has no inverse."
   ]
  },
  {
   "cell_type": "code",
   "execution_count": 9,
   "metadata": {},
   "outputs": [
    {
     "name": "stdout",
     "output_type": "stream",
     "text": [
      "Inverse of M:\n",
      " [[-1.57894737 -0.07894737  1.23684211  1.10526316]\n",
      " [-0.63157895 -0.13157895  0.39473684  0.84210526]\n",
      " [ 0.68421053  0.18421053 -0.55263158 -0.57894737]\n",
      " [ 0.52631579  0.02631579 -0.07894737 -0.36842105]]\n",
      "\n",
      " Error: The matrix has no inverse.\n"
     ]
    }
   ],
   "source": [
    "try:\n",
    "    inverse_M = np.linalg.inv(M)\n",
    "    print(\"Inverse of M:\\n\",inverse_M)\n",
    "except np.linalg.LinAlgError:\n",
    "    print(\"\\n Error: The matrix has no inverse.\")\n",
    "\n",
    "P = np.array([[0, 1, 0], [0, 0, 0], [1, 0, 1]])\n",
    "determinant_P = np.linalg.det(P)\n",
    "if determinant_P == 0:\n",
    "    print(\"\\n Error: The matrix has no inverse.\")\n",
    "else:\n",
    "    inverse_P = np.linalg.inv(P)\n",
    "    print(\"\\n Inverse of P: \",inverse_P)\n"
   ]
  },
  {
   "attachments": {},
   "cell_type": "markdown",
   "metadata": {},
   "source": [
    "###  Question 4"
   ]
  },
  {
   "attachments": {},
   "cell_type": "markdown",
   "metadata": {},
   "source": [
    "Matrix A = [[1, 1, 0], [0, 1, 0], [1, 0, 1]], compute the condition number and rank for\n",
    "this matrix. If y = [[1], [2], [1]], get the augmented matrix [A, y]."
   ]
  },
  {
   "cell_type": "code",
   "execution_count": 23,
   "metadata": {},
   "outputs": [
    {
     "name": "stdout",
     "output_type": "stream",
     "text": [
      "Condition Number: 4.048917339522305\n",
      "Rank: 3\n",
      "Augmented Matrix:\n",
      "[[1 1 0 1]\n",
      " [0 1 0 2]\n",
      " [1 0 1 1]]\n"
     ]
    }
   ],
   "source": [
    "\n",
    "A = np.array([[1, 1, 0], [0, 1, 0], [1, 0, 1]])\n",
    "y = np.array([[1], [2], [1]])\n",
    "\n",
    "\n",
    "# Find the condition number of A using numpy's linalg.cond function\n",
    "condition_number = np.linalg.cond(A)\n",
    "print(\"Condition Number:\", condition_number)\n",
    "\n",
    "# Find the rank of A using numpy's linalg.matrix_rank function\n",
    "rank = np.linalg.matrix_rank(A)\n",
    "print(\"Rank:\", rank)\n",
    "\n",
    "# Augmented matrix [A, y]\n",
    "augmented_matrix = np.concatenate((A, y), axis=1)\n",
    "print(\"Augmented Matrix:\")\n",
    "print(augmented_matrix)\n"
   ]
  },
  {
   "attachments": {},
   "cell_type": "markdown",
   "metadata": {},
   "source": [
    "### Question 5"
   ]
  },
  {
   "attachments": {},
   "cell_type": "markdown",
   "metadata": {},
   "source": [
    " Solve the following system of linear equations using Gauss-Seidel method, use a\n",
    "pre-defined threshold tool = 0.01. Do remember to check if the converge condition is\n",
    "satisfied or not.\n"
   ]
  },
  {
   "attachments": {},
   "cell_type": "markdown",
   "metadata": {},
   "source": [
    "8x1 + 3x2 − 3x3 = 14\n"
   ]
  },
  {
   "attachments": {},
   "cell_type": "markdown",
   "metadata": {},
   "source": [
    "−2x1 − 8x2 + 5x3 = 5\n"
   ]
  },
  {
   "cell_type": "markdown",
   "metadata": {},
   "source": [
    "3x1 + 5x2 + 10x3 = 8"
   ]
  },
  {
   "cell_type": "code",
   "execution_count": 28,
   "metadata": {},
   "outputs": [
    {
     "name": "stdout",
     "output_type": "stream",
     "text": [
      "The solution is x = [1 0 0] after 1 iterations\n"
     ]
    }
   ],
   "source": [
    "\n",
    "# Define the coefficients of the system of linear equations\n",
    "A = np.array([[8, 3, -3], [-2, -8, 5], [3, 5, 10]])\n",
    "b = np.array([14, 5, 8])\n",
    "\n",
    "# Define the threshold \n",
    "threshold = 0.01\n",
    "\n",
    "# Define the maximum number of iterations\n",
    "max_iterations = 1000\n",
    "\n",
    "# Choose an initial guess for the solution vector\n",
    "x = np.array([0, 0, 0])\n",
    "\n",
    "# Initialize the iteration counter\n",
    "iteration = 0\n",
    "\n",
    "# Repeat the following steps until the solution converges or the maximum number of iterations is reached\n",
    "while iteration < max_iterations:\n",
    "    # Store the previous solution\n",
    "    x_prev = x.copy()\n",
    "    \n",
    "    # Update the first component of x\n",
    "    x[0] = (b[0] - 3 * x[1] + 3 * x[2]) / 8\n",
    "    \n",
    "    # Update the second component of x\n",
    "    x[1] = (b[1] + 2 * x[0] - 5 * x[2]) / -8\n",
    "    \n",
    "    # Update the third component of x\n",
    "    x[2] = (b[2] - 3 * x[0] - 5 * x[1]) / 10\n",
    "    \n",
    "    # Check if the solution has converged\n",
    "    if np.linalg.norm(np.subtract(x, x_prev)) / (np.linalg.norm(x_prev) + 1e-9) <= threshold:\n",
    "        break\n",
    "    \n",
    "    # Increment the iteration counter\n",
    "    iteration += 1\n",
    "\n",
    "# Print the solution\n",
    "print(f\"The solution is x = {x} after {iteration} iterations\")\n"
   ]
  },
  {
   "attachments": {},
   "cell_type": "markdown",
   "metadata": {},
   "source": [
    "### Question 6"
   ]
  },
  {
   "attachments": {},
   "cell_type": "markdown",
   "metadata": {},
   "source": [
    "Use numpy.linalg.solve to solve the above equations"
   ]
  },
  {
   "cell_type": "code",
   "execution_count": 32,
   "metadata": {},
   "outputs": [
    {
     "name": "stdout",
     "output_type": "stream",
     "text": [
      "solution : [ 2.27413127 -0.85328185  0.54440154]\n"
     ]
    }
   ],
   "source": [
    "result = np.linalg.solve(A,b)\n",
    "print(\"solution :\", result)\n"
   ]
  },
  {
   "attachments": {},
   "cell_type": "markdown",
   "metadata": {},
   "source": [
    "### Question 7"
   ]
  },
  {
   "attachments": {},
   "cell_type": "markdown",
   "metadata": {},
   "source": [
    "Try to solve the above equations using the matrix inversion approach"
   ]
  },
  {
   "attachments": {},
   "cell_type": "markdown",
   "metadata": {},
   "source": [
    "<b>A * X = b ==>  X =  A<up>-1</up> * b </b>"
   ]
  },
  {
   "cell_type": "code",
   "execution_count": 34,
   "metadata": {},
   "outputs": [
    {
     "name": "stdout",
     "output_type": "stream",
     "text": [
      "The Solution Matrix inversion approach:  [ 2.27413127 -0.85328185  0.54440154]\n",
      "[ 2.27413127 -0.85328185  0.54440154]\n"
     ]
    }
   ],
   "source": [
    "try:\n",
    "    inverse_a = np.linalg.inv(A)\n",
    "    result = np.dot(inverse_a,b)\n",
    "    print(\"The Solution Matrix inversion approach: \",result)\n",
    "except np.linalg.LinAlgError:\n",
    "    print(\"Error: The matrix has no inverse.\")\n"
   ]
  },
  {
   "attachments": {},
   "cell_type": "markdown",
   "metadata": {},
   "source": [
    "### Question 8"
   ]
  },
  {
   "attachments": {},
   "cell_type": "markdown",
   "metadata": {},
   "source": [
    "Calculate the eigenvalues and eigenvectors for matrix A = [[0, 2, 1, 3], [3, 2, 8, 1], [1, 0, 0, 3], [0, 3, 2, 1]]"
   ]
  },
  {
   "cell_type": "code",
   "execution_count": 35,
   "metadata": {},
   "outputs": [
    {
     "name": "stdout",
     "output_type": "stream",
     "text": [
      "Eigenvalues: \n",
      " [ 7.0796991 +0.j         -1.83972579+3.16634801j -1.83972579-3.16634801j\n",
      " -0.40024753+0.j        ]\n",
      "\n",
      " Eigenvectors: \n",
      " [[-0.43431157+0.j          0.3205899 +0.06382272j  0.3205899 -0.06382272j\n",
      "  -0.81845667+0.j        ]\n",
      " [-0.74012233+0.j         -0.72163469+0.j         -0.72163469-0.j\n",
      "  -0.36173299+0.j        ]\n",
      " [-0.25110615+0.j          0.20764965-0.3620403j   0.20764965+0.3620403j\n",
      "   0.38781761+0.j        ]\n",
      " [-0.44781481+0.j          0.14791243+0.41990774j  0.14791243-0.41990774j\n",
      "   0.22107788+0.j        ]]\n"
     ]
    }
   ],
   "source": [
    "A = np.array([[0, 2, 1, 3], [3, 2, 8, 1], [1, 0, 0, 3], [0, 3, 2, 1]])\n",
    "eigenvalues, eigenvectors = np.linalg.eig(A)\n",
    "print(\"Eigenvalues: \\n\", eigenvalues)\n",
    "print(\"\\n Eigenvectors: \\n\", eigenvectors)\n"
   ]
  },
  {
   "attachments": {},
   "cell_type": "markdown",
   "metadata": {},
   "source": [
    "The eigenvalues of a matrix A are scalars that satisfy the equation Av = λv, where v is a non-zero vector and λ is the eigenvalue. This equation means that when the matrix A is multiplied by a vector v, the result is a scalar multiple of the vector v. The vector v is called the eigenvector of the matrix A corresponding to the eigenvalue λ.\n",
    "\n",
    "The eigenvectors of a matrix A are the non-zero vectors that when multiplied by matrix A, the result is a scalar multiple of that vector. The scalar value is the corresponding eigenvalue of the matrix A.\n",
    "\n",
    "In terms of the matrix A, its eigenvectors are the non-zero vectors that span the eigenspace of the matrix A and its eigenvalues are the scalars that correspond to the eigenvectors. The eigenvectors are important in many areas of mathematics and physics, and they are often used to diagonalize matrices and to study the stability of systems."
   ]
  }
 ],
 "metadata": {
  "kernelspec": {
   "display_name": "myenv",
   "language": "python",
   "name": "python3"
  },
  "language_info": {
   "codemirror_mode": {
    "name": "ipython",
    "version": 3
   },
   "file_extension": ".py",
   "mimetype": "text/x-python",
   "name": "python",
   "nbconvert_exporter": "python",
   "pygments_lexer": "ipython3",
   "version": "3.10.8"
  },
  "orig_nbformat": 4,
  "vscode": {
   "interpreter": {
    "hash": "896befeca508922fd3d1682fb0305be9a6ae22832c2870a263a58027bbc78f81"
   }
  }
 },
 "nbformat": 4,
 "nbformat_minor": 2
}

{
 "cells": [
  {
   "attachments": {},
   "cell_type": "markdown",
   "metadata": {},
   "source": [
    "### Implimentation of the gived example in the Gmail "
   ]
  },
  {
   "cell_type": "code",
   "execution_count": 31,
   "metadata": {},
   "outputs": [
    {
     "data": {
      "text/plain": [
       "(array([0, 1, 1]),\n",
       " array([[ 0.351, -0.097,  0.457],\n",
       "        [ 1.076, -0.165, -0.165],\n",
       "        [ 1.116,  0.542, -0.331]]))"
      ]
     },
     "execution_count": 31,
     "metadata": {},
     "output_type": "execute_result"
    }
   ],
   "source": [
    "import numpy as np\n",
    "\n",
    "inputs = np.array([ \n",
    "    0,#X1\n",
    "    1,#X2\n",
    "    1,#X3\n",
    "])\n",
    "\n",
    "weight_layer_1 = np.array([\n",
    "    [0.351,-0.097 ,0.457],\n",
    "    [1.076 , -0.165 , -0.165],\n",
    "    [1.116 , 0.542 , -0.331]\n",
    "    ])\n",
    "\n",
    "weight_layer_2 = np.array([0.383,-0.327 ,-0.329])\n",
    "\n",
    "inputs , weight_layer_1"
   ]
  },
  {
   "attachments": {},
   "cell_type": "markdown",
   "metadata": {},
   "source": [
    "1) activation function"
   ]
  },
  {
   "cell_type": "code",
   "execution_count": 32,
   "metadata": {},
   "outputs": [],
   "source": [
    "def segmoid (sum):\n",
    "    return 1/(1+np.exp(-sum))"
   ]
  },
  {
   "cell_type": "code",
   "execution_count": 33,
   "metadata": {},
   "outputs": [],
   "source": [
    "def model(inputs , weight):\n",
    "    sum = np.dot(inputs , weight)\n",
    "    return sum"
   ]
  },
  {
   "cell_type": "code",
   "execution_count": 34,
   "metadata": {},
   "outputs": [
    {
     "data": {
      "text/plain": [
       "(array([0.8995288 , 0.59314934, 0.37848114]), 0.5065094829653212)"
      ]
     },
     "execution_count": 34,
     "metadata": {},
     "output_type": "execute_result"
    }
   ],
   "source": [
    "activation_layer_1 = segmoid(model(inputs ,weight_layer_1))\n",
    "activation_layer_2 = segmoid(model(activation_layer_1 , weight_layer_2))\n",
    "\n",
    "activation_layer_1 , activation_layer_2"
   ]
  },
  {
   "cell_type": "code",
   "execution_count": null,
   "metadata": {},
   "outputs": [],
   "source": [
    "def gradient ():\n",
    "    pass "
   ]
  },
  {
   "attachments": {},
   "cell_type": "markdown",
   "metadata": {},
   "source": [
    "### Implimentation of the nuerale network given in the Class"
   ]
  },
  {
   "attachments": {},
   "cell_type": "markdown",
   "metadata": {},
   "source": [
    "1) Define the Data"
   ]
  },
  {
   "cell_type": "code",
   "execution_count": 46,
   "metadata": {},
   "outputs": [],
   "source": [
    "inputs = np.array([0.1 , 0.3])\n",
    "\n",
    "weight_layer_1  = np.array([\n",
    "    [0.5 , 0.2],\n",
    "    [0.62 , 0.2],\n",
    "    ])\n",
    "\n",
    "weight_layer_2  = np.array([0.2 , 0.3],)\n",
    "\n",
    "bias_layer_1 = np.array([0.4 , -0.1])\n",
    "\n",
    "bias_layer_2 = np.array([1.83])\n"
   ]
  },
  {
   "cell_type": "code",
   "execution_count": 47,
   "metadata": {},
   "outputs": [],
   "source": [
    "def model(inputs , weight , bias):\n",
    "    sum = np.dot(inputs , weight) +bias\n",
    "    return sum"
   ]
  },
  {
   "cell_type": "code",
   "execution_count": 48,
   "metadata": {},
   "outputs": [
    {
     "data": {
      "text/plain": [
       "(array([0.6538487 , 0.49500017]), array([0.89180089]))"
      ]
     },
     "execution_count": 48,
     "metadata": {},
     "output_type": "execute_result"
    }
   ],
   "source": [
    "activation_layer_1 = segmoid(model(inputs ,weight_layer_1 , bias_layer_1))\n",
    "activation_layer_2 = segmoid(model(activation_layer_1 ,weight_layer_2 , bias_layer_2))\n",
    "\n",
    "activation_layer_1 , activation_layer_2"
   ]
  },
  {
   "cell_type": "code",
   "execution_count": 49,
   "metadata": {},
   "outputs": [],
   "source": [
    "# need the gradiant function and the update function"
   ]
  }
 ],
 "metadata": {
  "kernelspec": {
   "display_name": "myenv",
   "language": "python",
   "name": "python3"
  },
  "language_info": {
   "codemirror_mode": {
    "name": "ipython",
    "version": 3
   },
   "file_extension": ".py",
   "mimetype": "text/x-python",
   "name": "python",
   "nbconvert_exporter": "python",
   "pygments_lexer": "ipython3",
   "version": "3.10.8"
  },
  "orig_nbformat": 4,
  "vscode": {
   "interpreter": {
    "hash": "896befeca508922fd3d1682fb0305be9a6ae22832c2870a263a58027bbc78f81"
   }
  }
 },
 "nbformat": 4,
 "nbformat_minor": 2
}

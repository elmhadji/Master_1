{
 "cells": [
  {
   "cell_type": "code",
   "execution_count": 1,
   "id": "7c999f7f",
   "metadata": {},
   "outputs": [],
   "source": [
    "import numpy as np"
   ]
  },
  {
   "cell_type": "code",
   "execution_count": 2,
   "id": "c0a6f139",
   "metadata": {},
   "outputs": [],
   "source": [
    "x1 = 0.1\n",
    "x2 = 0.3\n",
    "w1 = 0.5\n",
    "w2 = 0.2\n",
    "b = 1.83\n",
    "def model(x1,w1,b,x2,w2) :\n",
    "    Z = x1*(w1)+x2*(w2)+b\n",
    "    yp = 1/(1+np.exp(-Z))\n",
    "    return yp\n",
    "\n",
    " "
   ]
  },
  {
   "cell_type": "code",
   "execution_count": 3,
   "id": "1731cbfe",
   "metadata": {},
   "outputs": [
    {
     "name": "stdout",
     "output_type": "stream",
     "text": [
      "0.8743521434846544\n"
     ]
    }
   ],
   "source": [
    "yp = model (x1,w1,b,x2,w2)\n",
    "print(yp)"
   ]
  },
  {
   "cell_type": "code",
   "execution_count": 4,
   "id": "c913ff96",
   "metadata": {},
   "outputs": [],
   "source": [
    "yd = 0.03\n",
    "def log_loss (yp,yd) :\n",
    "    return   yd-yp "
   ]
  },
  {
   "cell_type": "code",
   "execution_count": 5,
   "id": "48557baa",
   "metadata": {},
   "outputs": [
    {
     "name": "stdout",
     "output_type": "stream",
     "text": [
      "0.8443521434846544\n"
     ]
    }
   ],
   "source": [
    "E = log_loss(yd,yp)\n",
    "print(E)"
   ]
  },
  {
   "cell_type": "code",
   "execution_count": 6,
   "id": "ae13be66",
   "metadata": {},
   "outputs": [
    {
     "name": "stdout",
     "output_type": "stream",
     "text": [
      "0.49915564785651534 0.19746694356954606 1.8215564785651535\n"
     ]
    }
   ],
   "source": [
    "w1 = w1 -(0.01*(E)*(x1))\n",
    "w2 = w2 -(0.01*(E)*(x2))\n",
    "b  = b -(0.01*(E))\n",
    "print (w1,w2,b)"
   ]
  },
  {
   "cell_type": "code",
   "execution_count": 7,
   "id": "e5d961a4",
   "metadata": {},
   "outputs": [
    {
     "name": "stdout",
     "output_type": "stream",
     "text": [
      "0.0347143143052127 -1.1958570570843596 -2.822856856947869 0.009996593586893109\n"
     ]
    }
   ],
   "source": [
    "i=0\n",
    "while (E>0.01) :\n",
    "    w1 = w1 -(0.01*(E)*(x1))\n",
    "    w2 = w2 -(0.01*(E)*(x2))\n",
    "    b  = b -(0.01*(E))\n",
    "    yp = model (x1,w1,b,x2,w2)\n",
    "    E = log_loss(yd,yp)\n",
    "    i+=1\n",
    "print (w1,w2,b, E)"
   ]
  },
  {
   "cell_type": "code",
   "execution_count": null,
   "id": "9e1b0365",
   "metadata": {},
   "outputs": [],
   "source": []
  }
 ],
 "metadata": {
  "kernelspec": {
   "display_name": "myenv",
   "language": "python",
   "name": "python3"
  },
  "language_info": {
   "codemirror_mode": {
    "name": "ipython",
    "version": 3
   },
   "file_extension": ".py",
   "mimetype": "text/x-python",
   "name": "python",
   "nbconvert_exporter": "python",
   "pygments_lexer": "ipython3",
   "version": "3.10.8"
  },
  "vscode": {
   "interpreter": {
    "hash": "896befeca508922fd3d1682fb0305be9a6ae22832c2870a263a58027bbc78f81"
   }
  }
 },
 "nbformat": 4,
 "nbformat_minor": 5
}

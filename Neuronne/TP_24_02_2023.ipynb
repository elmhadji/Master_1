{
 "cells": [
  {
   "attachments": {},
   "cell_type": "markdown",
   "metadata": {},
   "source": [
    "## implimentation of example gived in Gmail (solution TD1)"
   ]
  },
  {
   "attachments": {},
   "cell_type": "markdown",
   "metadata": {},
   "source": [
    "### Define Data"
   ]
  },
  {
   "cell_type": "code",
   "execution_count": 41,
   "metadata": {},
   "outputs": [],
   "source": [
    "import numpy as np\n",
    "import matplotlib.pylab as plt \n",
    "\n",
    "inputs = np.array([0.1 , 0.3])\n",
    "\n",
    "weight = np.array([0.5 , 0.2])\n",
    "\n",
    "bias = np.array([1.83])\n",
    "\n",
    "real_output = np.array([0.03])\n"
   ]
  },
  {
   "attachments": {},
   "cell_type": "markdown",
   "metadata": {},
   "source": [
    "### Define our function"
   ]
  },
  {
   "attachments": {},
   "cell_type": "markdown",
   "metadata": {},
   "source": [
    "1) activation function "
   ]
  },
  {
   "cell_type": "code",
   "execution_count": 42,
   "metadata": {},
   "outputs": [],
   "source": [
    "def activation (sum):\n",
    "    return  1/(1 + np.exp(-sum)) "
   ]
  },
  {
   "attachments": {},
   "cell_type": "markdown",
   "metadata": {},
   "source": [
    "2) function that calculate the weighted sum of input plus bias "
   ]
  },
  {
   "cell_type": "code",
   "execution_count": 43,
   "metadata": {},
   "outputs": [],
   "source": [
    "def model (inputs ,weight ,bias):\n",
    "    sum = np.dot(inputs,weight ) + bias\n",
    "    return sum"
   ]
  },
  {
   "attachments": {},
   "cell_type": "markdown",
   "metadata": {},
   "source": [
    "3) calculating the output using the nueral network"
   ]
  },
  {
   "cell_type": "code",
   "execution_count": 44,
   "metadata": {},
   "outputs": [
    {
     "data": {
      "text/plain": [
       "array([0.87435214])"
      ]
     },
     "execution_count": 44,
     "metadata": {},
     "output_type": "execute_result"
    }
   ],
   "source": [
    "predicted_output = activation(model(inputs , weight , bias))\n",
    "predicted_output"
   ]
  },
  {
   "attachments": {},
   "cell_type": "markdown",
   "metadata": {},
   "source": [
    "3) calculating the error "
   ]
  },
  {
   "cell_type": "code",
   "execution_count": 45,
   "metadata": {},
   "outputs": [],
   "source": [
    "def calculate_error (predicted_output , real_output):\n",
    "    return ((real_output - predicted_output)**2)/2"
   ]
  },
  {
   "cell_type": "code",
   "execution_count": 46,
   "metadata": {},
   "outputs": [
    {
     "data": {
      "text/plain": [
       "array([0.35646527])"
      ]
     },
     "execution_count": 46,
     "metadata": {},
     "output_type": "execute_result"
    }
   ],
   "source": [
    "error = calculate_error(predicted_output , real_output)\n",
    "error"
   ]
  },
  {
   "attachments": {},
   "cell_type": "markdown",
   "metadata": {},
   "source": [
    "4) calculate the gradiant dw and db"
   ]
  },
  {
   "cell_type": "code",
   "execution_count": 47,
   "metadata": {},
   "outputs": [],
   "source": [
    "def gradient(inputs , weight , bias ,  predicted_output ,  real_output  ):\n",
    "    dw = (predicted_output -real_output) * (np.exp(model(inputs , weight , bias))/(1+np.exp(model(inputs , weight , bias)))**2) * inputs.T\n",
    "    db = (predicted_output -real_output) * (np.exp(model(inputs , weight , bias))/(1+np.exp(model(inputs , weight , bias)))**2)\n",
    "    return dw , db"
   ]
  },
  {
   "cell_type": "code",
   "execution_count": 48,
   "metadata": {},
   "outputs": [
    {
     "name": "stdout",
     "output_type": "stream",
     "text": [
      "dw1 = 0.009276092558183863 , dw2 = 0.027828277674551587 and db = [0.09276093]\n"
     ]
    }
   ],
   "source": [
    "dw , db =gradient(inputs , weight , bias , predicted_output , real_output)\n",
    "print(f\"dw1 = {dw[0]} , dw2 = {dw[1]} and db = {db}\")"
   ]
  },
  {
   "attachments": {},
   "cell_type": "markdown",
   "metadata": {},
   "source": [
    "5) update the weight and the bias"
   ]
  },
  {
   "cell_type": "code",
   "execution_count": 49,
   "metadata": {},
   "outputs": [],
   "source": [
    "def update (dw , db , weight , bias , learning_rate):\n",
    "    if dw.ndim == 1:\n",
    "        weight = weight.astype(float) - learning_rate * dw\n",
    "        bias = bias.astype(float) - (learning_rate * db)\n",
    "    else:\n",
    "        weight = weight.astype(float) - learning_rate * np.sum(dw, axis=-1)\n",
    "        bias = bias.astype(float) - (learning_rate * np.sum(db, axis=-1))\n",
    "    \n",
    "    return weight, bias"
   ]
  },
  {
   "cell_type": "code",
   "execution_count": 50,
   "metadata": {},
   "outputs": [
    {
     "data": {
      "text/plain": [
       "(array([0.49990724, 0.19972172]), array([1.82907239]))"
      ]
     },
     "execution_count": 50,
     "metadata": {},
     "output_type": "execute_result"
    }
   ],
   "source": [
    "update(dw ,db ,weight ,bias , 0.01)"
   ]
  },
  {
   "attachments": {},
   "cell_type": "markdown",
   "metadata": {},
   "source": [
    "6) combine all the privious step and repeat it by certain number which is called epoch number "
   ]
  },
  {
   "cell_type": "code",
   "execution_count": 51,
   "metadata": {},
   "outputs": [],
   "source": [
    "def artificial_nueral(inputs , weight , bias , real_output , epoch_number =60 , learning_rate = 0.001):\n",
    "    cost = []\n",
    "\n",
    "    for i in range(epoch_number):\n",
    "        predicted_output = activation(model(inputs , weight , bias))\n",
    "        cost.append(calculate_error(predicted_output , real_output))\n",
    "        dw , db = gradient(inputs , weight , bias ,predicted_output , real_output)\n",
    "        weight , bias = update(dw ,db ,weight ,bias ,learning_rate)\n",
    "        #print(weight)\n",
    "    plt.plot(cost)\n",
    "    plt.show()\n",
    "    return weight ,bias\n"
   ]
  },
  {
   "cell_type": "code",
   "execution_count": 52,
   "metadata": {},
   "outputs": [
    {
     "data": {
      "image/png": "[encoded data removed]",
      "text/plain": [
       "<Figure size 640x480 with 1 Axes>"
      ]
     },
     "metadata": {},
     "output_type": "display_data"
    },
    {
     "data": {
      "text/plain": [
       "(array([ 0.18578771, -0.74263687]), array([-1.31212289]))"
      ]
     },
     "execution_count": 52,
     "metadata": {},
     "output_type": "execute_result"
    }
   ],
   "source": [
    "artificial_nueral(inputs ,weight ,bias ,real_output  ,40690)"
   ]
  },
  {
   "attachments": {},
   "cell_type": "markdown",
   "metadata": {},
   "source": [
    "### implimentation of example gived in gmail (Exercice suit part 1)"
   ]
  },
  {
   "cell_type": "code",
   "execution_count": 53,
   "metadata": {},
   "outputs": [
    {
     "data": {
      "text/plain": [
       "((20, 2), (2,), array([-2]), (20,))"
      ]
     },
     "execution_count": 53,
     "metadata": {},
     "output_type": "execute_result"
    }
   ],
   "source": [
    "inputs = np.array([\n",
    "    [0 , 3],\n",
    "    [1 , 1.5],\n",
    "    [1 , 4],\n",
    "    [1.5 , 2.5],\n",
    "    [2 , 2.5],\n",
    "    [3 , 3.5],\n",
    "    [3.5 , 3.25],\n",
    "    [4 , 3],\n",
    "    [4 , 4],\n",
    "    [5 , 4],\n",
    "    [1 , 1],\n",
    "    [2 , 0.5],\n",
    "    [2 , 2],\n",
    "    [3 , 1.5],\n",
    "    [3 , 2.75],\n",
    "    [4 , 1],\n",
    "    [4 , 2.5],\n",
    "    [4.5 , 3],\n",
    "    [5 , 1],\n",
    "    [5 , 2.25],\n",
    "    ]\n",
    "    )\n",
    "\n",
    "weight = np.array([0 , 1])\n",
    "\n",
    "bias = np.array([-2])\n",
    "\n",
    "real_output = np.array([\n",
    "    0,\n",
    "    0,\n",
    "    0,\n",
    "    0,\n",
    "    0,\n",
    "    0,\n",
    "    0,\n",
    "    0,\n",
    "    0,\n",
    "    0,\n",
    "    1,\n",
    "    1,\n",
    "    1,\n",
    "    1,\n",
    "    1,\n",
    "    1,\n",
    "    1,\n",
    "    1,\n",
    "    1,\n",
    "    1,\n",
    "])\n",
    "\n",
    "inputs.shape , weight.shape , bias , real_output.shape"
   ]
  },
  {
   "cell_type": "code",
   "execution_count": 54,
   "metadata": {},
   "outputs": [],
   "source": [
    "def error(otput , real_output):\n",
    "    return np.sqrt(np.square(np.subtract(otput, real_output)).mean())"
   ]
  },
  {
   "cell_type": "code",
   "execution_count": 58,
   "metadata": {},
   "outputs": [],
   "source": [
    "def artificial_nueral(inputs , weight , bias , real_output , epoch_number =60 , learning_rate = 0.001):\n",
    "    cost = []\n",
    "\n",
    "    for i in range(epoch_number):\n",
    "        predicted_output = activation(model(inputs , weight , bias))\n",
    "        cost.append(error(predicted_output , real_output ))\n",
    "        dw , db = gradient(inputs , weight , bias ,predicted_output , real_output)\n",
    "        weight , bias = update(dw ,db ,weight ,bias ,learning_rate)\n",
    "    plt.plot(cost)\n",
    "    plt.show()\n",
    "    return weight ,bias\n"
   ]
  },
  {
   "cell_type": "code",
   "execution_count": 59,
   "metadata": {},
   "outputs": [
    {
     "data": {
      "image/png": "[encoded data removed]",
      "text/plain": [
       "<Figure size 640x480 with 1 Axes>"
      ]
     },
     "metadata": {},
     "output_type": "display_data"
    }
   ],
   "source": [
    "w , b =artificial_nueral(inputs ,weight ,bias ,real_output ,40690)"
   ]
  },
  {
   "cell_type": "code",
   "execution_count": 57,
   "metadata": {},
   "outputs": [
    {
     "name": "stdout",
     "output_type": "stream",
     "text": [
      "w= [ 1.66155531 -3.04932661]\n",
      "b= [2.69627146]\n"
     ]
    }
   ],
   "source": [
    "print(\"w=\",w)\n",
    "print(\"b=\",b)"
   ]
  }
 ],
 "metadata": {
  "kernelspec": {
   "display_name": "myenv",
   "language": "python",
   "name": "python3"
  },
  "language_info": {
   "codemirror_mode": {
    "name": "ipython",
    "version": 3
   },
   "file_extension": ".py",
   "mimetype": "text/x-python",
   "name": "python",
   "nbconvert_exporter": "python",
   "pygments_lexer": "ipython3",
   "version": "3.10.8"
  },
  "orig_nbformat": 4,
  "vscode": {
   "interpreter": {
    "hash": "896befeca508922fd3d1682fb0305be9a6ae22832c2870a263a58027bbc78f81"
   }
  }
 },
 "nbformat": 4,
 "nbformat_minor": 2
}

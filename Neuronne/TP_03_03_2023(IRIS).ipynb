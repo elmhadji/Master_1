{
 "cells": [
  {
   "attachments": {},
   "cell_type": "markdown",
   "metadata": {},
   "source": [
    "### Load packages "
   ]
  },
  {
   "cell_type": "code",
   "execution_count": 1,
   "metadata": {},
   "outputs": [],
   "source": [
    "import pandas as pd\n",
    "import numpy as np\n",
    "from sklearn.model_selection import train_test_split"
   ]
  },
  {
   "attachments": {},
   "cell_type": "markdown",
   "metadata": {},
   "source": [
    "### Load Dataset"
   ]
  },
  {
   "cell_type": "code",
   "execution_count": 2,
   "metadata": {},
   "outputs": [],
   "source": [
    "data = pd.read_csv('Dataset/Iris.csv')\n",
    "\n",
    "# data = pd.get_dummies(data, columns=[\"Species\"])\n",
    "\n",
    "# # Decode the one-hot encoded columns to 0 and 1\n",
    "# data[\"Species_Iris-setosa\"] = data[\"Species_Iris-setosa\"].apply(lambda x: 1 if x else 0)\n",
    "# data[\"Species_Iris-versicolor\"] = data[\"Species_Iris-versicolor\"].apply(lambda x: 1 if x else 0)\n",
    "# data[\"Species_Iris-virginica\"] = data[\"Species_Iris-virginica\"].apply(lambda x: 1 if x else 0)\n",
    "\n",
    "# # Print the updated dataset\n",
    "# data.head()"
   ]
  },
  {
   "cell_type": "code",
   "execution_count": 35,
   "metadata": {},
   "outputs": [
    {
     "data": {
      "text/html": [
       "<div>\n",
       "<style scoped>\n",
       "    .dataframe tbody tr th:only-of-type {\n",
       "        vertical-align: middle;\n",
       "    }\n",
       "\n",
       "    .dataframe tbody tr th {\n",
       "        vertical-align: top;\n",
       "    }\n",
       "\n",
       "    .dataframe thead th {\n",
       "        text-align: right;\n",
       "    }\n",
       "</style>\n",
       "<table border=\"1\" class=\"dataframe\">\n",
       "  <thead>\n",
       "    <tr style=\"text-align: right;\">\n",
       "      <th></th>\n",
       "      <th>SepalLengthCm</th>\n",
       "      <th>SepalWidthCm</th>\n",
       "      <th>PetalLengthCm</th>\n",
       "      <th>PetalWidthCm</th>\n",
       "    </tr>\n",
       "  </thead>\n",
       "  <tbody>\n",
       "    <tr>\n",
       "      <th>0</th>\n",
       "      <td>5.1</td>\n",
       "      <td>3.5</td>\n",
       "      <td>1.4</td>\n",
       "      <td>0.2</td>\n",
       "    </tr>\n",
       "    <tr>\n",
       "      <th>1</th>\n",
       "      <td>4.9</td>\n",
       "      <td>3.0</td>\n",
       "      <td>1.4</td>\n",
       "      <td>0.2</td>\n",
       "    </tr>\n",
       "    <tr>\n",
       "      <th>2</th>\n",
       "      <td>4.7</td>\n",
       "      <td>3.2</td>\n",
       "      <td>1.3</td>\n",
       "      <td>0.2</td>\n",
       "    </tr>\n",
       "    <tr>\n",
       "      <th>3</th>\n",
       "      <td>4.6</td>\n",
       "      <td>3.1</td>\n",
       "      <td>1.5</td>\n",
       "      <td>0.2</td>\n",
       "    </tr>\n",
       "    <tr>\n",
       "      <th>4</th>\n",
       "      <td>5.0</td>\n",
       "      <td>3.6</td>\n",
       "      <td>1.4</td>\n",
       "      <td>0.2</td>\n",
       "    </tr>\n",
       "    <tr>\n",
       "      <th>...</th>\n",
       "      <td>...</td>\n",
       "      <td>...</td>\n",
       "      <td>...</td>\n",
       "      <td>...</td>\n",
       "    </tr>\n",
       "    <tr>\n",
       "      <th>145</th>\n",
       "      <td>6.7</td>\n",
       "      <td>3.0</td>\n",
       "      <td>5.2</td>\n",
       "      <td>2.3</td>\n",
       "    </tr>\n",
       "    <tr>\n",
       "      <th>146</th>\n",
       "      <td>6.3</td>\n",
       "      <td>2.5</td>\n",
       "      <td>5.0</td>\n",
       "      <td>1.9</td>\n",
       "    </tr>\n",
       "    <tr>\n",
       "      <th>147</th>\n",
       "      <td>6.5</td>\n",
       "      <td>3.0</td>\n",
       "      <td>5.2</td>\n",
       "      <td>2.0</td>\n",
       "    </tr>\n",
       "    <tr>\n",
       "      <th>148</th>\n",
       "      <td>6.2</td>\n",
       "      <td>3.4</td>\n",
       "      <td>5.4</td>\n",
       "      <td>2.3</td>\n",
       "    </tr>\n",
       "    <tr>\n",
       "      <th>149</th>\n",
       "      <td>5.9</td>\n",
       "      <td>3.0</td>\n",
       "      <td>5.1</td>\n",
       "      <td>1.8</td>\n",
       "    </tr>\n",
       "  </tbody>\n",
       "</table>\n",
       "<p>150 rows × 4 columns</p>\n",
       "</div>"
      ],
      "text/plain": [
       "     SepalLengthCm  SepalWidthCm  PetalLengthCm  PetalWidthCm\n",
       "0              5.1           3.5            1.4           0.2\n",
       "1              4.9           3.0            1.4           0.2\n",
       "2              4.7           3.2            1.3           0.2\n",
       "3              4.6           3.1            1.5           0.2\n",
       "4              5.0           3.6            1.4           0.2\n",
       "..             ...           ...            ...           ...\n",
       "145            6.7           3.0            5.2           2.3\n",
       "146            6.3           2.5            5.0           1.9\n",
       "147            6.5           3.0            5.2           2.0\n",
       "148            6.2           3.4            5.4           2.3\n",
       "149            5.9           3.0            5.1           1.8\n",
       "\n",
       "[150 rows x 4 columns]"
      ]
     },
     "execution_count": 35,
     "metadata": {},
     "output_type": "execute_result"
    }
   ],
   "source": [
    "data[['SepalLengthCm','SepalWidthCm','PetalLengthCm','PetalWidthCm']]"
   ]
  },
  {
   "attachments": {},
   "cell_type": "markdown",
   "metadata": {},
   "source": [
    "splitting dataset to train data and test data (80%)"
   ]
  },
  {
   "cell_type": "code",
   "execution_count": 3,
   "metadata": {},
   "outputs": [
    {
     "data": {
      "text/html": [
       "<div>\n",
       "<style scoped>\n",
       "    .dataframe tbody tr th:only-of-type {\n",
       "        vertical-align: middle;\n",
       "    }\n",
       "\n",
       "    .dataframe tbody tr th {\n",
       "        vertical-align: top;\n",
       "    }\n",
       "\n",
       "    .dataframe thead th {\n",
       "        text-align: right;\n",
       "    }\n",
       "</style>\n",
       "<table border=\"1\" class=\"dataframe\">\n",
       "  <thead>\n",
       "    <tr style=\"text-align: right;\">\n",
       "      <th></th>\n",
       "      <th>Id</th>\n",
       "      <th>SepalLengthCm</th>\n",
       "      <th>SepalWidthCm</th>\n",
       "      <th>PetalLengthCm</th>\n",
       "      <th>PetalWidthCm</th>\n",
       "      <th>Species</th>\n",
       "    </tr>\n",
       "  </thead>\n",
       "  <tbody>\n",
       "    <tr>\n",
       "      <th>22</th>\n",
       "      <td>23</td>\n",
       "      <td>4.6</td>\n",
       "      <td>3.6</td>\n",
       "      <td>1.0</td>\n",
       "      <td>0.2</td>\n",
       "      <td>Iris-setosa</td>\n",
       "    </tr>\n",
       "    <tr>\n",
       "      <th>15</th>\n",
       "      <td>16</td>\n",
       "      <td>5.7</td>\n",
       "      <td>4.4</td>\n",
       "      <td>1.5</td>\n",
       "      <td>0.4</td>\n",
       "      <td>Iris-setosa</td>\n",
       "    </tr>\n",
       "    <tr>\n",
       "      <th>65</th>\n",
       "      <td>66</td>\n",
       "      <td>6.7</td>\n",
       "      <td>3.1</td>\n",
       "      <td>4.4</td>\n",
       "      <td>1.4</td>\n",
       "      <td>Iris-versicolor</td>\n",
       "    </tr>\n",
       "    <tr>\n",
       "      <th>11</th>\n",
       "      <td>12</td>\n",
       "      <td>4.8</td>\n",
       "      <td>3.4</td>\n",
       "      <td>1.6</td>\n",
       "      <td>0.2</td>\n",
       "      <td>Iris-setosa</td>\n",
       "    </tr>\n",
       "    <tr>\n",
       "      <th>42</th>\n",
       "      <td>43</td>\n",
       "      <td>4.4</td>\n",
       "      <td>3.2</td>\n",
       "      <td>1.3</td>\n",
       "      <td>0.2</td>\n",
       "      <td>Iris-setosa</td>\n",
       "    </tr>\n",
       "    <tr>\n",
       "      <th>...</th>\n",
       "      <td>...</td>\n",
       "      <td>...</td>\n",
       "      <td>...</td>\n",
       "      <td>...</td>\n",
       "      <td>...</td>\n",
       "      <td>...</td>\n",
       "    </tr>\n",
       "    <tr>\n",
       "      <th>71</th>\n",
       "      <td>72</td>\n",
       "      <td>6.1</td>\n",
       "      <td>2.8</td>\n",
       "      <td>4.0</td>\n",
       "      <td>1.3</td>\n",
       "      <td>Iris-versicolor</td>\n",
       "    </tr>\n",
       "    <tr>\n",
       "      <th>106</th>\n",
       "      <td>107</td>\n",
       "      <td>4.9</td>\n",
       "      <td>2.5</td>\n",
       "      <td>4.5</td>\n",
       "      <td>1.7</td>\n",
       "      <td>Iris-virginica</td>\n",
       "    </tr>\n",
       "    <tr>\n",
       "      <th>14</th>\n",
       "      <td>15</td>\n",
       "      <td>5.8</td>\n",
       "      <td>4.0</td>\n",
       "      <td>1.2</td>\n",
       "      <td>0.2</td>\n",
       "      <td>Iris-setosa</td>\n",
       "    </tr>\n",
       "    <tr>\n",
       "      <th>92</th>\n",
       "      <td>93</td>\n",
       "      <td>5.8</td>\n",
       "      <td>2.6</td>\n",
       "      <td>4.0</td>\n",
       "      <td>1.2</td>\n",
       "      <td>Iris-versicolor</td>\n",
       "    </tr>\n",
       "    <tr>\n",
       "      <th>102</th>\n",
       "      <td>103</td>\n",
       "      <td>7.1</td>\n",
       "      <td>3.0</td>\n",
       "      <td>5.9</td>\n",
       "      <td>2.1</td>\n",
       "      <td>Iris-virginica</td>\n",
       "    </tr>\n",
       "  </tbody>\n",
       "</table>\n",
       "<p>120 rows × 6 columns</p>\n",
       "</div>"
      ],
      "text/plain": [
       "      Id  SepalLengthCm  SepalWidthCm  PetalLengthCm  PetalWidthCm  \\\n",
       "22    23            4.6           3.6            1.0           0.2   \n",
       "15    16            5.7           4.4            1.5           0.4   \n",
       "65    66            6.7           3.1            4.4           1.4   \n",
       "11    12            4.8           3.4            1.6           0.2   \n",
       "42    43            4.4           3.2            1.3           0.2   \n",
       "..   ...            ...           ...            ...           ...   \n",
       "71    72            6.1           2.8            4.0           1.3   \n",
       "106  107            4.9           2.5            4.5           1.7   \n",
       "14    15            5.8           4.0            1.2           0.2   \n",
       "92    93            5.8           2.6            4.0           1.2   \n",
       "102  103            7.1           3.0            5.9           2.1   \n",
       "\n",
       "             Species  \n",
       "22       Iris-setosa  \n",
       "15       Iris-setosa  \n",
       "65   Iris-versicolor  \n",
       "11       Iris-setosa  \n",
       "42       Iris-setosa  \n",
       "..               ...  \n",
       "71   Iris-versicolor  \n",
       "106   Iris-virginica  \n",
       "14       Iris-setosa  \n",
       "92   Iris-versicolor  \n",
       "102   Iris-virginica  \n",
       "\n",
       "[120 rows x 6 columns]"
      ]
     },
     "execution_count": 3,
     "metadata": {},
     "output_type": "execute_result"
    }
   ],
   "source": [
    "train_data, test_data = train_test_split(data, test_size=0.2, random_state=42)\n",
    "train_data"
   ]
  },
  {
   "attachments": {},
   "cell_type": "markdown",
   "metadata": {},
   "source": [
    "we transform every label to a numerical data (from 0 to 2)"
   ]
  },
  {
   "cell_type": "code",
   "execution_count": 4,
   "metadata": {},
   "outputs": [],
   "source": [
    "train_data['Species'] = train_data['Species'].replace({'Iris-setosa': 0, 'Iris-versicolor': 1, 'Iris-virginica': 2})# type:ignore\n",
    "test_data['Species'] = test_data['Species'].replace({'Iris-setosa': 0, 'Iris-versicolor': 1, 'Iris-virginica': 2})# type:ignore\n"
   ]
  },
  {
   "cell_type": "code",
   "execution_count": 5,
   "metadata": {},
   "outputs": [
    {
     "data": {
      "text/html": [
       "<div>\n",
       "<style scoped>\n",
       "    .dataframe tbody tr th:only-of-type {\n",
       "        vertical-align: middle;\n",
       "    }\n",
       "\n",
       "    .dataframe tbody tr th {\n",
       "        vertical-align: top;\n",
       "    }\n",
       "\n",
       "    .dataframe thead th {\n",
       "        text-align: right;\n",
       "    }\n",
       "</style>\n",
       "<table border=\"1\" class=\"dataframe\">\n",
       "  <thead>\n",
       "    <tr style=\"text-align: right;\">\n",
       "      <th></th>\n",
       "      <th>Id</th>\n",
       "      <th>SepalLengthCm</th>\n",
       "      <th>SepalWidthCm</th>\n",
       "      <th>PetalLengthCm</th>\n",
       "      <th>PetalWidthCm</th>\n",
       "      <th>Species</th>\n",
       "    </tr>\n",
       "  </thead>\n",
       "  <tbody>\n",
       "    <tr>\n",
       "      <th>22</th>\n",
       "      <td>23</td>\n",
       "      <td>4.6</td>\n",
       "      <td>3.6</td>\n",
       "      <td>1.0</td>\n",
       "      <td>0.2</td>\n",
       "      <td>0</td>\n",
       "    </tr>\n",
       "    <tr>\n",
       "      <th>15</th>\n",
       "      <td>16</td>\n",
       "      <td>5.7</td>\n",
       "      <td>4.4</td>\n",
       "      <td>1.5</td>\n",
       "      <td>0.4</td>\n",
       "      <td>0</td>\n",
       "    </tr>\n",
       "    <tr>\n",
       "      <th>65</th>\n",
       "      <td>66</td>\n",
       "      <td>6.7</td>\n",
       "      <td>3.1</td>\n",
       "      <td>4.4</td>\n",
       "      <td>1.4</td>\n",
       "      <td>1</td>\n",
       "    </tr>\n",
       "    <tr>\n",
       "      <th>11</th>\n",
       "      <td>12</td>\n",
       "      <td>4.8</td>\n",
       "      <td>3.4</td>\n",
       "      <td>1.6</td>\n",
       "      <td>0.2</td>\n",
       "      <td>0</td>\n",
       "    </tr>\n",
       "    <tr>\n",
       "      <th>42</th>\n",
       "      <td>43</td>\n",
       "      <td>4.4</td>\n",
       "      <td>3.2</td>\n",
       "      <td>1.3</td>\n",
       "      <td>0.2</td>\n",
       "      <td>0</td>\n",
       "    </tr>\n",
       "    <tr>\n",
       "      <th>...</th>\n",
       "      <td>...</td>\n",
       "      <td>...</td>\n",
       "      <td>...</td>\n",
       "      <td>...</td>\n",
       "      <td>...</td>\n",
       "      <td>...</td>\n",
       "    </tr>\n",
       "    <tr>\n",
       "      <th>71</th>\n",
       "      <td>72</td>\n",
       "      <td>6.1</td>\n",
       "      <td>2.8</td>\n",
       "      <td>4.0</td>\n",
       "      <td>1.3</td>\n",
       "      <td>1</td>\n",
       "    </tr>\n",
       "    <tr>\n",
       "      <th>106</th>\n",
       "      <td>107</td>\n",
       "      <td>4.9</td>\n",
       "      <td>2.5</td>\n",
       "      <td>4.5</td>\n",
       "      <td>1.7</td>\n",
       "      <td>2</td>\n",
       "    </tr>\n",
       "    <tr>\n",
       "      <th>14</th>\n",
       "      <td>15</td>\n",
       "      <td>5.8</td>\n",
       "      <td>4.0</td>\n",
       "      <td>1.2</td>\n",
       "      <td>0.2</td>\n",
       "      <td>0</td>\n",
       "    </tr>\n",
       "    <tr>\n",
       "      <th>92</th>\n",
       "      <td>93</td>\n",
       "      <td>5.8</td>\n",
       "      <td>2.6</td>\n",
       "      <td>4.0</td>\n",
       "      <td>1.2</td>\n",
       "      <td>1</td>\n",
       "    </tr>\n",
       "    <tr>\n",
       "      <th>102</th>\n",
       "      <td>103</td>\n",
       "      <td>7.1</td>\n",
       "      <td>3.0</td>\n",
       "      <td>5.9</td>\n",
       "      <td>2.1</td>\n",
       "      <td>2</td>\n",
       "    </tr>\n",
       "  </tbody>\n",
       "</table>\n",
       "<p>120 rows × 6 columns</p>\n",
       "</div>"
      ],
      "text/plain": [
       "      Id  SepalLengthCm  SepalWidthCm  PetalLengthCm  PetalWidthCm  Species\n",
       "22    23            4.6           3.6            1.0           0.2        0\n",
       "15    16            5.7           4.4            1.5           0.4        0\n",
       "65    66            6.7           3.1            4.4           1.4        1\n",
       "11    12            4.8           3.4            1.6           0.2        0\n",
       "42    43            4.4           3.2            1.3           0.2        0\n",
       "..   ...            ...           ...            ...           ...      ...\n",
       "71    72            6.1           2.8            4.0           1.3        1\n",
       "106  107            4.9           2.5            4.5           1.7        2\n",
       "14    15            5.8           4.0            1.2           0.2        0\n",
       "92    93            5.8           2.6            4.0           1.2        1\n",
       "102  103            7.1           3.0            5.9           2.1        2\n",
       "\n",
       "[120 rows x 6 columns]"
      ]
     },
     "execution_count": 5,
     "metadata": {},
     "output_type": "execute_result"
    }
   ],
   "source": [
    "train_data"
   ]
  },
  {
   "attachments": {},
   "cell_type": "markdown",
   "metadata": {},
   "source": [
    "we create the input data for our nueral network and the output to calculate the error <br>\n",
    "and generate randomly the weight for layer 1 and layer 2 (for now we have 1 hidden layer)"
   ]
  },
  {
   "cell_type": "code",
   "execution_count": 7,
   "metadata": {},
   "outputs": [],
   "source": [
    "inputs , real_output = np.array(train_data.drop([ 'Id','Species'] , axis=1)) ,np.array(train_data['Species']).reshape((120,1))#type:ignore\n",
    "\n",
    "weight_layer_1 =np.random.rand(inputs.shape[1] , 4)\n",
    "weight_layer_2 =np.random.rand(4 , 1)\n"
   ]
  },
  {
   "cell_type": "code",
   "execution_count": 8,
   "metadata": {},
   "outputs": [
    {
     "name": "stdout",
     "output_type": "stream",
     "text": [
      "inputs shape (120, 4) output shape (120, 1)\n",
      "weight layer 1 : \n",
      "[[0.1833625  0.08612447 0.27823559 0.92637396]\n",
      " [0.5909788  0.58180576 0.11572032 0.44959413]\n",
      " [0.58266324 0.5723934  0.28965391 0.4827279 ]\n",
      " [0.76789514 0.64297642 0.44303089 0.30341513]] \n",
      "weight_layer_2 : \n",
      "[[0.05233241]\n",
      " [0.9131057 ]\n",
      " [0.50522359]\n",
      " [0.98261479]]\n"
     ]
    }
   ],
   "source": [
    "print(f\"inputs shape {inputs.shape} output shape {real_output.shape}\")\n",
    "print(f\"weight layer 1 : \\n{weight_layer_1} \\nweight_layer_2 : \\n{weight_layer_2}\")"
   ]
  },
  {
   "attachments": {},
   "cell_type": "markdown",
   "metadata": {},
   "source": [
    "### Implimentation of the nueral network \n",
    "(with 4 input and 1 output and 1 hidden layer full connected)"
   ]
  },
  {
   "cell_type": "code",
   "execution_count": 9,
   "metadata": {},
   "outputs": [],
   "source": [
    "def model(inputs , weights):\n",
    "    return inputs.dot(weights)"
   ]
  },
  {
   "cell_type": "code",
   "execution_count": 10,
   "metadata": {},
   "outputs": [],
   "source": [
    "def sigmoid (x):\n",
    "    return 1/(1 + np.exp(-x))"
   ]
  },
  {
   "cell_type": "code",
   "execution_count": 11,
   "metadata": {},
   "outputs": [],
   "source": [
    "def sigmoid_derivative (x):\n",
    "    return (np.exp(x))/(np.exp(x)+1)**2"
   ]
  },
  {
   "cell_type": "code",
   "execution_count": 14,
   "metadata": {},
   "outputs": [
    {
     "name": "stdout",
     "output_type": "stream",
     "text": [
      "they are match \n"
     ]
    }
   ],
   "source": [
    "s = model(inputs , weight_layer_1)\n",
    "os =  sigmoid(model(inputs , weight_layer_1))\n",
    "\n",
    "s_1 = sigmoid(os)\n",
    "\n",
    "if s_1.all() == s.all() :\n",
    "    print('they are match ')\n",
    "\n"
   ]
  },
  {
   "cell_type": "code",
   "execution_count": 102,
   "metadata": {},
   "outputs": [],
   "source": [
    "def softmax(x):\n",
    "    exp_x = np.exp(x)\n",
    "    sum_exp_x = np.sum(exp_x, axis=1, keepdims=True)\n",
    "    return exp_x / sum_exp_x"
   ]
  },
  {
   "cell_type": "code",
   "execution_count": 103,
   "metadata": {},
   "outputs": [],
   "source": [
    "def softmax_derivative(x):\n",
    "    \"\"\"\n",
    "    Compute the derivative of softmax function.\n",
    "    \n",
    "    Arguments:\n",
    "    x -- A numpy array of shape (n, m).\n",
    "    \n",
    "    Returns:\n",
    "    The derivative of the softmax function for the input x.\n",
    "    \"\"\"\n",
    "    s = np.exp(x) / np.sum(np.exp(x), axis=0)\n",
    "    ds = np.diagflat(s) - np.dot(s, s.T)\n",
    "    return ds"
   ]
  },
  {
   "cell_type": "code",
   "execution_count": 104,
   "metadata": {},
   "outputs": [],
   "source": [
    "def error(otput , real_output):\n",
    "    return np.sqrt(np.square(np.subtract(otput, real_output)).mean())\n",
    "\n",
    "def rmse(y_pred , y_true):\n",
    "\n",
    "    n = y_true.shape[0]  # number of samples\n",
    "    diff = y_pred - y_true  # difference between predicted and true values\n",
    "    mse = (1/n) * np.sum(diff ** 2)  # mean squared error\n",
    "    rmsee = np.sqrt(mse)  # root mean squared error\n",
    "    return rmsee\n",
    "\n",
    "def rmse_derivative(y_pred , y_true):\n",
    "    N = y_true.shape[0]\n",
    "    diff = y_pred - y_true\n",
    "    mse = np.mean(diff ** 2)\n",
    "    rmse = np.sqrt(mse)\n",
    "    return diff / (rmse * N)\n",
    "\n",
    "def d_rmse(y_pred , y_true):\n",
    "    \"\"\"\n",
    "    Calculates the derivative of RMSE (Root Mean Squared Error) loss function with respect to y_pred\n",
    "    \n",
    "    Arguments:\n",
    "    y_true -- true values of the output (ground truth)\n",
    "    y_pred -- predicted values of the output\n",
    "    \n",
    "    Returns:\n",
    "    derivative of RMSE loss function with respect to y_pred\n",
    "    \"\"\"\n",
    "    n = y_true.shape[0]  # number of samples\n",
    "    diff = y_pred - y_true  # difference between predicted and true values\n",
    "    d_rmse = (2/n) * np.dot(diff.T, diff)  # derivative of RMSE w.r.t y_pred\n",
    "    return d_rmse\n"
   ]
  },
  {
   "cell_type": "code",
   "execution_count": 105,
   "metadata": {},
   "outputs": [
    {
     "data": {
      "text/plain": [
       "((120, 1), (120, 4))"
      ]
     },
     "execution_count": 105,
     "metadata": {},
     "output_type": "execute_result"
    }
   ],
   "source": [
    "hidden = sigmoid(model(inputs , weight_layer_1))\n",
    "predicted_output = sigmoid(model(hidden , weight_layer_2))\n",
    "predicted_output.shape , hidden.shape"
   ]
  },
  {
   "cell_type": "code",
   "execution_count": 106,
   "metadata": {},
   "outputs": [
    {
     "data": {
      "text/plain": [
       "(120, 1)"
      ]
     },
     "execution_count": 106,
     "metadata": {},
     "output_type": "execute_result"
    }
   ],
   "source": [
    "rmse_derivative(predicted_output , real_output ).shape"
   ]
  },
  {
   "cell_type": "code",
   "execution_count": 107,
   "metadata": {},
   "outputs": [],
   "source": [
    "def gradient (inputs , weight_layer_1 , weight_layer_2 , real_output ):\n",
    "    \n",
    "    hidden = sigmoid(model(inputs , weight_layer_1)) # OS1 shape ()\n",
    "    \n",
    "    predicted_output = sigmoid(model(hidden , weight_layer_2)) # OS2\n",
    "\n",
    "    dE = rmse_derivative(predicted_output , real_output )\n",
    "\n",
    "    dYp = sigmoid_derivative(model(hidden , weight_layer_2))\n",
    "    dS2 = sigmoid_derivative(hidden)\n",
    "    dOS = sigmoid_derivative(model(inputs , weight_layer_1))\n",
    "\n",
    "    # d_output_1 = sigmoid_derivative(model(inputs , weight_layer_1))\n",
    "\n",
    "    # print(f'dE : {dE.shape} dYp: {dYp.shape} d_output1: {d_output_1.shape} weight_layer_2 : {weight_layer_2.shape} weight_layer_1 {weight_layer_1.shape} hidden{hidden.shape} predicted_output{predicted_output.shape}')\n",
    "    dw2 = np.dot(dE.T ,dYp.dot(weight_layer_2.T)).T.astype(float)\n",
    "    dw1 = dE.dot(dYp.T).T.dot(dS2).T.dot(dOS).dot(weight_layer_1).astype(float)\n",
    "    \n",
    "    return  dw1 , dw2"
   ]
  },
  {
   "cell_type": "code",
   "execution_count": 108,
   "metadata": {},
   "outputs": [],
   "source": [
    "test1 ,test2 = gradient(inputs , weight_layer_1 , weight_layer_2 , real_output)"
   ]
  },
  {
   "cell_type": "code",
   "execution_count": 109,
   "metadata": {},
   "outputs": [],
   "source": [
    "def update (dw1 ,dw2 ,weight_layer_1 , weight_layer_2 ,learning_rate ):\n",
    "    weight_layer_2  = weight_layer_2 - (learning_rate * dw2)\n",
    "    weight_layer_1  = weight_layer_1 - (learning_rate * dw1)\n",
    "    return weight_layer_1 ,weight_layer_2"
   ]
  },
  {
   "cell_type": "code",
   "execution_count": 110,
   "metadata": {},
   "outputs": [],
   "source": [
    "# update(test1 ,test2  ,weight_layer_1 ,weight_layer_2 ,0.01)"
   ]
  },
  {
   "attachments": {},
   "cell_type": "markdown",
   "metadata": {},
   "source": [
    "algorithme to calculate the output and error and update the weight and recalculate "
   ]
  },
  {
   "cell_type": "code",
   "execution_count": 111,
   "metadata": {},
   "outputs": [],
   "source": [
    "def artificial_nueral(inputs , weight_layer_1 ,weight_layer_2 , real_output , epoch_number =60 , learning_rate = 0.01):\n",
    "    cost = []\n",
    "    import matplotlib.pylab as plt \n",
    "    for i in range(epoch_number):\n",
    "        hidden = sigmoid(model(inputs ,weight_layer_1))\n",
    "        predicted_output = sigmoid(model(hidden , weight_layer_2 ))\n",
    "        cost.append(error(predicted_output , real_output ))\n",
    "        dw1 , dw2 = gradient(inputs , weight_layer_1 , weight_layer_2 , real_output)\n",
    "        weight_layer_1 , weight_layer_2 = update(dw1 ,dw2  ,weight_layer_1 ,weight_layer_2 ,learning_rate)\n",
    "    plt.plot(cost)\n",
    "    plt.show()\n",
    "    return weight_layer_1 ,weight_layer_2"
   ]
  },
  {
   "cell_type": "code",
   "execution_count": 115,
   "metadata": {},
   "outputs": [
    {
     "data": {
      "image/png": "[encoded data removed]",
      "text/plain": [
       "<Figure size 640x480 with 1 Axes>"
      ]
     },
     "metadata": {},
     "output_type": "display_data"
    }
   ],
   "source": [
    "W1 , W2 = artificial_nueral(inputs ,weight_layer_1 ,weight_layer_2 ,real_output  ,99999)"
   ]
  },
  {
   "attachments": {},
   "cell_type": "markdown",
   "metadata": {},
   "source": [
    "the prediction function "
   ]
  },
  {
   "cell_type": "code",
   "execution_count": 113,
   "metadata": {},
   "outputs": [],
   "source": [
    "def predict(inputs , weight_layer_1 ,weight_layer_2):\n",
    "  hidden = sigmoid(model(inputs ,weight_layer_1))\n",
    "  predicted_output = sigmoid(model(hidden ,weight_layer_2))\n",
    "  return predicted_output"
   ]
  },
  {
   "cell_type": "code",
   "execution_count": 114,
   "metadata": {},
   "outputs": [],
   "source": [
    "inputs_test , real_output_test = np.array(test_data.drop([ 'Id','Species'] , axis=1)) ,np.array(test_data['Species']).reshape((30,1))#type:ignore"
   ]
  },
  {
   "attachments": {},
   "cell_type": "markdown",
   "metadata": {},
   "source": [
    "the error are big may to many reason and some of them is that we may want to add more layer or add bias "
   ]
  },
  {
   "cell_type": "code",
   "execution_count": 117,
   "metadata": {},
   "outputs": [
    {
     "data": {
      "text/plain": [
       "0.8373655244895449"
      ]
     },
     "execution_count": 117,
     "metadata": {},
     "output_type": "execute_result"
    }
   ],
   "source": [
    "predicted_value = predict(inputs_test ,W1 ,W2)\n",
    "rmse(predicted_value , real_output_test)"
   ]
  },
  {
   "cell_type": "code",
   "execution_count": null,
   "metadata": {},
   "outputs": [],
   "source": []
  }
 ],
 "metadata": {
  "kernelspec": {
   "display_name": "myenv",
   "language": "python",
   "name": "python3"
  },
  "language_info": {
   "codemirror_mode": {
    "name": "ipython",
    "version": 3
   },
   "file_extension": ".py",
   "mimetype": "text/x-python",
   "name": "python",
   "nbconvert_exporter": "python",
   "pygments_lexer": "ipython3",
   "version": "3.10.8"
  },
  "orig_nbformat": 4
 },
 "nbformat": 4,
 "nbformat_minor": 2
}
